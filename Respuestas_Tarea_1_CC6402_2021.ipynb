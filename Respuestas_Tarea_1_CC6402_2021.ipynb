{
  "nbformat": 4,
  "nbformat_minor": 0,
  "metadata": {
    "colab": {
      "name": "Respuestas_Tarea_1_CC6402_2021",
      "provenance": [],
      "collapsed_sections": []
    },
    "kernelspec": {
      "name": "python3",
      "display_name": "Python 3"
    },
    "accelerator": "GPU"
  },
  "cells": [
    {
      "cell_type": "markdown",
      "metadata": {
        "id": "iCszeuRk0NuH"
      },
      "source": [
        "# Tarea 1: Activaciones y pasada hacia adelante en una red neuronal <br/> CC6204 Deep Learning, Universidad de Chile  <br/> Hoja de respuestas\n",
        "## Nombre: Gabriel Rojas\n",
        "Fecha de entrega: 30 de agosto de 2021"
      ]
    },
    {
      "cell_type": "code",
      "metadata": {
        "id": "8QQB7jV7LMEo",
        "colab": {
          "base_uri": "https://localhost:8080/"
        },
        "outputId": "75937c3d-8a40-4b27-fa6e-d6f0314c015e"
      },
      "source": [
        "# Este notebook está pensado para correr en CoLaboratory. \n",
        "# Lo único imprescindible por importar es torch \n",
        "import torch\n",
        "\n",
        "# Posiblemenete quieras instalar e importar ipdb para debuggear.\n",
        "# Si es así, descomenta lo siguiente\n",
        "# !pip install -q ipdb\n",
        "# import ipdb\n",
        "\n",
        "# Aqui instalamos la libreria de correccion del curso\n",
        "!pip install \"git+https://github.com/dccuchile/CC6204.git@master#egg=cc6204&subdirectory=autocorrect\""
      ],
      "execution_count": null,
      "outputs": [
        {
          "output_type": "stream",
          "name": "stdout",
          "text": [
            "Collecting cc6204\n",
            "  Cloning https://github.com/dccuchile/CC6204.git (to revision master) to /tmp/pip-install-n3a_81es/cc6204_075ec6b5f7df4414a2638b065fe717fa\n",
            "  Running command git clone -q https://github.com/dccuchile/CC6204.git /tmp/pip-install-n3a_81es/cc6204_075ec6b5f7df4414a2638b065fe717fa\n",
            "Requirement already satisfied: requests in /usr/local/lib/python3.7/dist-packages (from cc6204) (2.23.0)\n",
            "Requirement already satisfied: numpy in /usr/local/lib/python3.7/dist-packages (from cc6204) (1.19.5)\n",
            "Requirement already satisfied: torch in /usr/local/lib/python3.7/dist-packages (from cc6204) (1.9.0+cu102)\n",
            "Requirement already satisfied: idna<3,>=2.5 in /usr/local/lib/python3.7/dist-packages (from requests->cc6204) (2.10)\n",
            "Requirement already satisfied: chardet<4,>=3.0.2 in /usr/local/lib/python3.7/dist-packages (from requests->cc6204) (3.0.4)\n",
            "Requirement already satisfied: certifi>=2017.4.17 in /usr/local/lib/python3.7/dist-packages (from requests->cc6204) (2021.5.30)\n",
            "Requirement already satisfied: urllib3!=1.25.0,!=1.25.1,<1.26,>=1.21.1 in /usr/local/lib/python3.7/dist-packages (from requests->cc6204) (1.24.3)\n",
            "Requirement already satisfied: typing-extensions in /usr/local/lib/python3.7/dist-packages (from torch->cc6204) (3.7.4.3)\n"
          ]
        }
      ]
    },
    {
      "cell_type": "code",
      "metadata": {
        "id": "49OevYJkMdgW",
        "colab": {
          "base_uri": "https://localhost:8080/"
        },
        "outputId": "b43f6ccf-7896-4728-b01d-e9af06893360"
      },
      "source": [
        "# importamos las herramientas del curso\n",
        "from cc6204 import AutoCorrect, FailedTest\n",
        "\n",
        "# ingresa el host y port que posteamos en u-cursos\n",
        "\n",
        "corrector = AutoCorrect(host=\"cc6204.dcc.uchile.cl\", port=443)\n",
        "\n",
        "# anota el token que te daremos en u-cursos\n",
        "\n",
        "token = \"]ye/Ox;nsz\""
      ],
      "execution_count": null,
      "outputs": [
        {
          "output_type": "stream",
          "name": "stdout",
          "text": [
            "Connection stablished\n"
          ]
        }
      ]
    },
    {
      "cell_type": "markdown",
      "metadata": {
        "id": "Uq9u0IfT0VRp"
      },
      "source": [
        "# Parte 1: Funciones de activación y función de salida"
      ]
    },
    {
      "cell_type": "markdown",
      "metadata": {
        "id": "DMw80P8o0qrJ"
      },
      "source": [
        "## 1a) Funciones de activación"
      ]
    },
    {
      "cell_type": "code",
      "metadata": {
        "id": "tDhcNbNT0YNr"
      },
      "source": [
        "def sig(T):\n",
        "  return torch.reciprocal(1 + torch.exp(-1 * T))\n",
        "\n",
        "def tanh(T):\n",
        "  E = torch.exp(T)\n",
        "  e = torch.exp(-1 * T)\n",
        "  return (E - e) * torch.reciprocal(E + e)\n",
        "\n",
        "# Tu código acá\n",
        "def relu(T):\n",
        "  zero = torch.tensor([0], device=T.get_device())\n",
        "  return torch.maximum(T, zero)\n",
        "\n",
        "def swish(T, beta=1):\n",
        "  return T * sig(beta * T)\n",
        "\n",
        "def celu(T, alpha=1):\n",
        "  zero = torch.tensor([0], device=T.get_device())\n",
        "  return torch.maximum(zero, T) + torch.minimum(zero, alpha * (torch.exp(T / alpha) - 1))"
      ],
      "execution_count": null,
      "outputs": []
    },
    {
      "cell_type": "code",
      "metadata": {
        "id": "s0SmO2x7M1pn",
        "colab": {
          "base_uri": "https://localhost:8080/"
        },
        "outputId": "200ec98e-18bf-4f0f-cf7f-37ef893c8b83"
      },
      "source": [
        "# Tests del API del curso\n",
        "test_relu = corrector.get_test_data(homework=1, question=\"1a\", test=1, token=token)\n",
        "test_swish, swish_par = corrector.get_test_data(homework=1, question=\"1a\", test=2, token=token)\n",
        "test_celu, celu_par = corrector.get_test_data(homework=1, question=\"1a\", test=3, token=token)\n",
        "\n",
        "# probablemente quieras convertr los variables test_* a un tensor, ya que por defecto son listas\n",
        "\n",
        "corrector.submit(homework=1, question=\"1a\", test=1, token=token, answer=relu(torch.tensor(test_relu).to('cuda')))\n",
        "corrector.submit(homework=1, question=\"1a\", test=2, token=token, answer=swish(torch.tensor(test_swish).to('cuda'), swish_par))\n",
        "corrector.submit(homework=1, question=\"1a\", test=3, token=token, answer=celu(torch.tensor(test_celu).to('cuda'), celu_par))"
      ],
      "execution_count": null,
      "outputs": [
        {
          "output_type": "stream",
          "name": "stdout",
          "text": [
            "Correct Test!\n",
            "Correct Test!\n",
            "Correct Test!\n"
          ]
        }
      ]
    },
    {
      "cell_type": "markdown",
      "metadata": {
        "id": "e_0dTh7l1bas"
      },
      "source": [
        "## 1b) Softmax"
      ]
    },
    {
      "cell_type": "markdown",
      "metadata": {
        "id": "NjIyp2nL1le5"
      },
      "source": [
        "(La demostración puedes entregarla en otro archivo o incluirla directamente acá)"
      ]
    },
    {
      "cell_type": "markdown",
      "metadata": {
        "id": "9-mg_Mjfzt7L"
      },
      "source": [
        "Demostracion: \\\\\n",
        "Veamos que si a cada elemento se le resta el mismo valor $M$ entonces se tendra que\n",
        "$$\n",
        "s_i = \\frac{e^{x_i-M}}{\\sum_{j=1}^{n}e^{x_j-M}}\n",
        "$$\n",
        "lo que es igual a\n",
        "$$\n",
        "s_i = \\frac{e^{x_i}e^{-M}}{\\sum_{j=1}^{n}e^{x_j}e^{-M}}\n",
        "$$\n",
        "y si simplificamos se tiene que \n",
        "$$\n",
        "s_i = \\frac{e^{x_i}}{\\sum_{j=1}^{n}e^{x_j}}\n",
        "$$\n",
        "Entonces queda demostrado que restarle el mismo valor a todos los elementos el resultado de softmax no varia."
      ]
    },
    {
      "cell_type": "code",
      "metadata": {
        "id": "jDg2sU7D1dIY"
      },
      "source": [
        "# Tu código acá\n",
        "\n",
        "def softmax(T, dim=1, estable=True):\n",
        "  if estable:\n",
        "    T = T - torch.max(T)\n",
        "  sum = torch.sum(torch.exp(T), dim=dim, keepdim=True)\n",
        "  return torch.divide(torch.exp(T), sum)"
      ],
      "execution_count": null,
      "outputs": []
    },
    {
      "cell_type": "code",
      "metadata": {
        "id": "4nJhjuGZXgkM",
        "colab": {
          "base_uri": "https://localhost:8080/"
        },
        "outputId": "0cca65de-97b2-4a83-86e7-5aabc5eff43a"
      },
      "source": [
        "# Tests del API del curso\n",
        "test_softmax, _dim = corrector.get_test_data(homework=1, question=\"1b\", test=1, token=token)\n",
        "corrector.submit(homework=1, question=\"1b\", test=1, token=token, answer=softmax(torch.tensor(test_softmax).to('cuda'), dim=_dim))"
      ],
      "execution_count": null,
      "outputs": [
        {
          "output_type": "stream",
          "name": "stdout",
          "text": [
            "Correct Test!\n"
          ]
        }
      ]
    },
    {
      "cell_type": "markdown",
      "metadata": {
        "id": "662XLsDA9XXI"
      },
      "source": [
        "# Parte 2: Red neuronal y pasada hacia adelante (forward)"
      ]
    },
    {
      "cell_type": "markdown",
      "metadata": {
        "id": "fTUm9ZbX9bRA"
      },
      "source": [
        "## 2a) Clase para red neuronal, 2b) Iterando por parametros, 2d) Pasada hacia adelante"
      ]
    },
    {
      "cell_type": "code",
      "metadata": {
        "id": "f_jeuYbv9WhK"
      },
      "source": [
        "# Tu código debiera continuar así \n",
        "\n",
        "class FFNN(torch.nn.Module):\n",
        "  def __init__(self, F, l_h, l_a, C, beta=1, alpha=1):\n",
        "    super(FFNN, self).__init__()\n",
        "    self.F = F\n",
        "    dims = [F] + l_h\n",
        "    self.W = torch.nn.ParameterList([torch.nn.Parameter(torch.rand(dims[x], dims[x+1])) for x in range(len(l_h))])\n",
        "    self.b = torch.nn.ParameterList([torch.nn.Parameter(torch.rand(dims[x])) for x in range(1, len(dims))])\n",
        "    self.U = torch.nn.Parameter(torch.rand(l_h[len(l_h)-1], C))\n",
        "    self.c = torch.nn.Parameter(torch.rand(C))\n",
        "    self.l_a = l_a\n",
        "    self.beta = torch.nn.Parameter(torch.tensor([float(beta)]))\n",
        "    self.alpha = torch.nn.Parameter(torch.tensor([float(alpha)]))\n",
        "\n",
        "  def resumen(self):\n",
        "    # usa self.parameters() o self.named_parameters()\n",
        "    for param in self.named_parameters():\n",
        "      print(param[0], \"containing:\", type(param[1].data), param[1].size())\n",
        "  \n",
        "  def forward(self, x):\n",
        "    # Usa los parámetros y funciones de activación.\n",
        "    # El valor de retorno debiera ser y = softmax(capa_de_salida).\n",
        "    x.to('cuda')\n",
        "    x = x.view(-1, self.F)\n",
        "    for i in range(len(self.l_a)):\n",
        "      if self.l_a[i] == swish:\n",
        "        x = self.l_a[i](torch.mm(x, self.W[i]) + self.b[i], beta=float(self.beta))\n",
        "      elif self.l_a[i] == celu:\n",
        "        x = self.l_a[i](torch.mm(x, self.W[i]) + self.b[i], alpha=float(self.alpha))\n",
        "      else:  \n",
        "        x = self.l_a[i](torch.mm(x, self.W[i]) + self.b[i])\n",
        "    x = torch.mm(x, self.U) + self.c\n",
        "    return softmax(x)"
      ],
      "execution_count": null,
      "outputs": []
    },
    {
      "cell_type": "markdown",
      "metadata": {
        "id": "Bgf5Xx-34Pa1"
      },
      "source": [
        "## 2c) Moviendo los parámetros entre dispositivos"
      ]
    },
    {
      "cell_type": "code",
      "metadata": {
        "id": "2zppplXd4QXa",
        "colab": {
          "base_uri": "https://localhost:8080/"
        },
        "outputId": "5a878d87-8e44-4193-9543-ca97f5c77a52"
      },
      "source": [
        "# Tu código acá\n",
        "red_neuronal = FFNN(300,[50,30],[relu,sig],10)\n",
        "red_neuronal.to('cuda')\n",
        "!nvidia-smi\n",
        "red_neuronal.resumen()"
      ],
      "execution_count": null,
      "outputs": [
        {
          "output_type": "stream",
          "name": "stdout",
          "text": [
            "Sat Sep  4 02:12:57 2021       \n",
            "+-----------------------------------------------------------------------------+\n",
            "| NVIDIA-SMI 470.63.01    Driver Version: 460.32.03    CUDA Version: 11.2     |\n",
            "|-------------------------------+----------------------+----------------------+\n",
            "| GPU  Name        Persistence-M| Bus-Id        Disp.A | Volatile Uncorr. ECC |\n",
            "| Fan  Temp  Perf  Pwr:Usage/Cap|         Memory-Usage | GPU-Util  Compute M. |\n",
            "|                               |                      |               MIG M. |\n",
            "|===============================+======================+======================|\n",
            "|   0  Tesla K80           Off  | 00000000:00:04.0 Off |                    0 |\n",
            "| N/A   50C    P0    58W / 149W |    448MiB / 11441MiB |      0%      Default |\n",
            "|                               |                      |                  N/A |\n",
            "+-------------------------------+----------------------+----------------------+\n",
            "                                                                               \n",
            "+-----------------------------------------------------------------------------+\n",
            "| Processes:                                                                  |\n",
            "|  GPU   GI   CI        PID   Type   Process name                  GPU Memory |\n",
            "|        ID   ID                                                   Usage      |\n",
            "|=============================================================================|\n",
            "|  No running processes found                                                 |\n",
            "+-----------------------------------------------------------------------------+\n",
            "U containing: <class 'torch.Tensor'> torch.Size([30, 10])\n",
            "c containing: <class 'torch.Tensor'> torch.Size([10])\n",
            "beta containing: <class 'torch.Tensor'> torch.Size([1])\n",
            "alpha containing: <class 'torch.Tensor'> torch.Size([1])\n",
            "W.0 containing: <class 'torch.Tensor'> torch.Size([300, 50])\n",
            "W.1 containing: <class 'torch.Tensor'> torch.Size([50, 30])\n",
            "b.0 containing: <class 'torch.Tensor'> torch.Size([50])\n",
            "b.1 containing: <class 'torch.Tensor'> torch.Size([30])\n"
          ]
        }
      ]
    },
    {
      "cell_type": "markdown",
      "metadata": {
        "id": "swTnKxznL6Ep"
      },
      "source": [
        "# Parte 3: Probando tu red con parámetros pre-entrenados para MNIST"
      ]
    },
    {
      "cell_type": "code",
      "metadata": {
        "id": "uOBcElJ7BPcQ",
        "colab": {
          "base_uri": "https://localhost:8080/"
        },
        "outputId": "c3036efa-c938-41a8-c0f7-c0ce6dac77f2"
      },
      "source": [
        "from torchvision.datasets import MNIST\n",
        "from torchvision.transforms import ToTensor\n",
        "\n",
        "# Descarga y almacena el conjunto de prueba de MNIST.\n",
        "dataset = MNIST('mnist', train=False, transform=ToTensor(), download=True)\n",
        "print('Cantidad total de datos:',len(dataset))"
      ],
      "execution_count": null,
      "outputs": [
        {
          "output_type": "stream",
          "name": "stdout",
          "text": [
            "Cantidad total de datos: 10000\n"
          ]
        },
        {
          "output_type": "stream",
          "name": "stderr",
          "text": [
            "/usr/local/lib/python3.7/dist-packages/torchvision/datasets/mnist.py:498: UserWarning: The given NumPy array is not writeable, and PyTorch does not support non-writeable tensors. This means you can write to the underlying (supposedly non-writeable) NumPy array using the tensor. You may want to copy the array to protect its data or make it writeable before converting it to a tensor. This type of warning will be suppressed for the rest of this program. (Triggered internally at  /pytorch/torch/csrc/utils/tensor_numpy.cpp:180.)\n",
            "  return torch.from_numpy(parsed.astype(m[2], copy=False)).view(*s)\n"
          ]
        }
      ]
    },
    {
      "cell_type": "markdown",
      "metadata": {
        "id": "s6s-z1DNL-J0"
      },
      "source": [
        "## 3b) Cargando los parámetros pre-entrenados"
      ]
    },
    {
      "cell_type": "code",
      "metadata": {
        "id": "GcEOXUCsPtmx"
      },
      "source": [
        "%%bash\n",
        "# Este comando es util para descargar los datos\n",
        "wget \\\n",
        "    --quiet \\\n",
        "    --no-clobber \\\n",
        "    --base https://raw.githubusercontent.com/dccuchile/CC6204/master/2020/tareas/tarea1/mnist_weights/ \\\n",
        "    --input-file - \\\n",
        "<<EOF\n",
        "U.txt\n",
        "W1.txt\n",
        "W2.txt\n",
        "b1.txt\n",
        "b2.txt\n",
        "c.txt\n",
        "EOF"
      ],
      "execution_count": null,
      "outputs": []
    },
    {
      "cell_type": "code",
      "metadata": {
        "id": "SLeq3y8FE3SU",
        "colab": {
          "base_uri": "https://localhost:8080/"
        },
        "outputId": "b1b8f26d-db6f-473b-e167-f717e7138721"
      },
      "source": [
        "# Tu código acá\n",
        "from numpy import loadtxt\n",
        "U = torch.from_numpy(loadtxt('U.txt')).float()\n",
        "W1 = torch.from_numpy(loadtxt('W1.txt')).float()\n",
        "W2 = torch.from_numpy(loadtxt('W2.txt')).float()\n",
        "b1 = torch.from_numpy(loadtxt('b1.txt')).float()\n",
        "b2 = torch.from_numpy(loadtxt('b2.txt')).float()\n",
        "c = torch.from_numpy(loadtxt('c.txt')).float()\n",
        "\n",
        "red = FFNN(784,[32,16],[relu,relu],10)\n",
        "red.W[0] = torch.nn.Parameter(W1)\n",
        "red.W[1] = torch.nn.Parameter(W2)\n",
        "red.b[0] = torch.nn.Parameter(b1)\n",
        "red.b[1] = torch.nn.Parameter(b2)\n",
        "red.U = torch.nn.Parameter(U)\n",
        "red.c = torch.nn.Parameter(c)\n",
        "red.to('cuda')\n",
        "\n",
        "red.resumen()"
      ],
      "execution_count": null,
      "outputs": [
        {
          "output_type": "stream",
          "name": "stdout",
          "text": [
            "U containing: <class 'torch.Tensor'> torch.Size([16, 10])\n",
            "c containing: <class 'torch.Tensor'> torch.Size([10])\n",
            "beta containing: <class 'torch.Tensor'> torch.Size([1])\n",
            "alpha containing: <class 'torch.Tensor'> torch.Size([1])\n",
            "W.0 containing: <class 'torch.Tensor'> torch.Size([784, 32])\n",
            "W.1 containing: <class 'torch.Tensor'> torch.Size([32, 16])\n",
            "b.0 containing: <class 'torch.Tensor'> torch.Size([32])\n",
            "b.1 containing: <class 'torch.Tensor'> torch.Size([16])\n"
          ]
        }
      ]
    },
    {
      "cell_type": "markdown",
      "metadata": {
        "id": "WWRa68ZFMIyr"
      },
      "source": [
        "## 3c) Calcula la predicción de un ejemplo al azar"
      ]
    },
    {
      "cell_type": "code",
      "metadata": {
        "id": "a-SaIzRoMMoc",
        "colab": {
          "base_uri": "https://localhost:8080/"
        },
        "outputId": "d92c24de-f3b8-40d1-adcc-62e5cc5f40a5"
      },
      "source": [
        "# Tu código acá\n",
        "import random\n",
        "idx = random.randint(0,len(dataset))\n",
        "T, l = dataset[idx]\n",
        "out = red.forward(dataset[idx][0].to('cuda'))\n",
        "pred = int(torch.argmax(out))\n",
        "print(\"prediction:\", pred, \"\\nanswer:\", l)"
      ],
      "execution_count": null,
      "outputs": [
        {
          "output_type": "stream",
          "name": "stdout",
          "text": [
            "prediction: 4 \n",
            "answer: 4\n"
          ]
        }
      ]
    },
    {
      "cell_type": "markdown",
      "metadata": {
        "id": "i1cZFU8rMNr1"
      },
      "source": [
        "## 3d) Pasando todos los ejemplos por la red con un `DataLoader`"
      ]
    },
    {
      "cell_type": "code",
      "metadata": {
        "id": "mL49_0ZAMRd_"
      },
      "source": [
        "# Acá tu código\n",
        "from torch.utils.data import DataLoader\n",
        "def calcula_acierto(red, dataset, batch_size=100, device='cuda'):\n",
        "  dataloader = DataLoader(dataset, batch_size=batch_size)\n",
        "  count = 0.0\n",
        "  correct = 0.0\n",
        "  for x, y in dataloader:\n",
        "    x = x.to('cuda')\n",
        "    y = y.to('cuda')\n",
        "    out = torch.argmax(red.forward(x.to('cuda')), dim=1)\n",
        "    is_close = torch.isclose(out,y)\n",
        "    correct += torch.sum(is_close)\n",
        "    count += batch_size\n",
        "  print(\"acierto: \", float(correct / count * 100), \"%\")"
      ],
      "execution_count": null,
      "outputs": []
    },
    {
      "cell_type": "code",
      "metadata": {
        "colab": {
          "base_uri": "https://localhost:8080/"
        },
        "id": "y4bwzx5ew-Rz",
        "outputId": "14baeb9c-a7ac-401b-a7ff-329652da9e42"
      },
      "source": [
        "calcula_acierto(red, dataset)"
      ],
      "execution_count": null,
      "outputs": [
        {
          "output_type": "stream",
          "name": "stdout",
          "text": [
            "acierto:  96.12000274658203 %\n"
          ]
        }
      ]
    },
    {
      "cell_type": "markdown",
      "metadata": {
        "id": "EKXqo4FpX2Id"
      },
      "source": [
        "### Corrección red"
      ]
    },
    {
      "cell_type": "code",
      "metadata": {
        "id": "JMcid2LRXzrg",
        "colab": {
          "base_uri": "https://localhost:8080/"
        },
        "outputId": "4ce081eb-68d9-4944-a570-374a2fb472de"
      },
      "source": [
        "# Tests del API del curso\n",
        "from torch.utils.data import Subset\n",
        "indices = corrector.get_test_data(homework=1, question=\"network\", test=1, token=token)\n",
        "test_set = Subset(dataset, indices)\n",
        "\n",
        "# Modelo con los parámetros pre-entrenados para MNIST\n",
        "your_network = red\n",
        "\n",
        "# Montar el `test_set` en un tensor de (N, 28*28) usando DataLoader\n",
        "X = list(DataLoader(test_set, batch_size=len(test_set)))[0][0].view(-1, 28*28)\n",
        "\n",
        "# Almacenar el resultado en un puro tensor de (N,1)\n",
        "result = torch.argmax(your_network(X.to('cuda')), dim=1)\n",
        "\n",
        "corrector.submit(homework=1, question=\"network\", test=1, token=token, answer=result)"
      ],
      "execution_count": null,
      "outputs": [
        {
          "output_type": "stream",
          "name": "stdout",
          "text": [
            "Correct Test!\n"
          ]
        }
      ]
    },
    {
      "cell_type": "markdown",
      "metadata": {
        "id": "3pgWygWCMYTx"
      },
      "source": [
        "## 3e) Opcional: Muestra los casos en donde la red se equivoca"
      ]
    },
    {
      "cell_type": "code",
      "metadata": {
        "id": "FM_eP23XMaTn",
        "colab": {
          "base_uri": "https://localhost:8080/"
        },
        "outputId": "4ffb8eba-0c08-4c45-8458-dedaeebf421e"
      },
      "source": [
        "# Acá tu código\n",
        "dataloader = DataLoader(dataset, batch_size=1)\n",
        "for x, y in dataloader:\n",
        "  x = x.to('cuda')\n",
        "  y = y.to('cuda')\n",
        "  out = torch.argmax(red.forward(x.to('cuda')), dim=1)\n",
        "  is_close = torch.isclose(out,y)\n",
        "  for n in range(len(is_close)):\n",
        "    if not is_close[n]:\n",
        "      print(\"prediction:\", int(out[n]), \"answer:\", int(y[n]))"
      ],
      "execution_count": null,
      "outputs": [
        {
          "output_type": "stream",
          "name": "stdout",
          "text": [
            "prediction: 6 answer: 5\n",
            "prediction: 8 answer: 9\n",
            "prediction: 2 answer: 4\n",
            "prediction: 0 answer: 6\n",
            "prediction: 7 answer: 9\n",
            "prediction: 7 answer: 2\n",
            "prediction: 3 answer: 5\n",
            "prediction: 7 answer: 3\n",
            "prediction: 3 answer: 5\n",
            "prediction: 2 answer: 8\n",
            "prediction: 3 answer: 8\n",
            "prediction: 1 answer: 7\n",
            "prediction: 2 answer: 3\n",
            "prediction: 2 answer: 8\n",
            "prediction: 3 answer: 8\n",
            "prediction: 8 answer: 1\n",
            "prediction: 9 answer: 3\n",
            "prediction: 8 answer: 2\n",
            "prediction: 3 answer: 7\n",
            "prediction: 4 answer: 8\n",
            "prediction: 9 answer: 4\n",
            "prediction: 6 answer: 0\n",
            "prediction: 8 answer: 5\n",
            "prediction: 9 answer: 4\n",
            "prediction: 9 answer: 8\n",
            "prediction: 2 answer: 7\n",
            "prediction: 9 answer: 7\n",
            "prediction: 9 answer: 4\n",
            "prediction: 4 answer: 5\n",
            "prediction: 2 answer: 1\n",
            "prediction: 5 answer: 6\n",
            "prediction: 8 answer: 5\n",
            "prediction: 9 answer: 7\n",
            "prediction: 2 answer: 6\n",
            "prediction: 9 answer: 3\n",
            "prediction: 8 answer: 9\n",
            "prediction: 6 answer: 4\n",
            "prediction: 8 answer: 3\n",
            "prediction: 2 answer: 3\n",
            "prediction: 9 answer: 7\n",
            "prediction: 6 answer: 4\n",
            "prediction: 1 answer: 6\n",
            "prediction: 8 answer: 6\n",
            "prediction: 7 answer: 0\n",
            "prediction: 5 answer: 8\n",
            "prediction: 2 answer: 7\n",
            "prediction: 4 answer: 9\n",
            "prediction: 9 answer: 4\n",
            "prediction: 5 answer: 9\n",
            "prediction: 1 answer: 7\n",
            "prediction: 2 answer: 7\n",
            "prediction: 9 answer: 5\n",
            "prediction: 3 answer: 8\n",
            "prediction: 2 answer: 7\n",
            "prediction: 9 answer: 7\n",
            "prediction: 6 answer: 2\n",
            "prediction: 2 answer: 8\n",
            "prediction: 6 answer: 5\n",
            "prediction: 9 answer: 4\n",
            "prediction: 1 answer: 8\n",
            "prediction: 4 answer: 6\n",
            "prediction: 9 answer: 7\n",
            "prediction: 1 answer: 7\n",
            "prediction: 9 answer: 7\n",
            "prediction: 6 answer: 1\n",
            "prediction: 7 answer: 8\n",
            "prediction: 6 answer: 4\n",
            "prediction: 8 answer: 9\n",
            "prediction: 3 answer: 9\n",
            "prediction: 4 answer: 6\n",
            "prediction: 6 answer: 2\n",
            "prediction: 5 answer: 6\n",
            "prediction: 7 answer: 3\n",
            "prediction: 3 answer: 9\n",
            "prediction: 0 answer: 8\n",
            "prediction: 9 answer: 7\n",
            "prediction: 2 answer: 4\n",
            "prediction: 2 answer: 7\n",
            "prediction: 9 answer: 2\n",
            "prediction: 4 answer: 6\n",
            "prediction: 5 answer: 3\n",
            "prediction: 3 answer: 8\n",
            "prediction: 3 answer: 8\n",
            "prediction: 4 answer: 9\n",
            "prediction: 8 answer: 7\n",
            "prediction: 8 answer: 9\n",
            "prediction: 3 answer: 5\n",
            "prediction: 9 answer: 0\n",
            "prediction: 8 answer: 9\n",
            "prediction: 9 answer: 8\n",
            "prediction: 2 answer: 7\n",
            "prediction: 9 answer: 7\n",
            "prediction: 4 answer: 0\n",
            "prediction: 3 answer: 5\n",
            "prediction: 0 answer: 5\n",
            "prediction: 8 answer: 4\n",
            "prediction: 7 answer: 2\n",
            "prediction: 9 answer: 4\n",
            "prediction: 9 answer: 7\n",
            "prediction: 0 answer: 2\n",
            "prediction: 0 answer: 8\n",
            "prediction: 9 answer: 3\n",
            "prediction: 4 answer: 6\n",
            "prediction: 9 answer: 5\n",
            "prediction: 2 answer: 9\n",
            "prediction: 9 answer: 4\n",
            "prediction: 1 answer: 6\n",
            "prediction: 2 answer: 1\n",
            "prediction: 5 answer: 0\n",
            "prediction: 3 answer: 2\n",
            "prediction: 1 answer: 9\n",
            "prediction: 8 answer: 5\n",
            "prediction: 6 answer: 1\n",
            "prediction: 0 answer: 8\n",
            "prediction: 0 answer: 9\n",
            "prediction: 8 answer: 2\n",
            "prediction: 8 answer: 3\n",
            "prediction: 2 answer: 7\n",
            "prediction: 2 answer: 0\n",
            "prediction: 2 answer: 0\n",
            "prediction: 9 answer: 5\n",
            "prediction: 1 answer: 9\n",
            "prediction: 3 answer: 8\n",
            "prediction: 1 answer: 9\n",
            "prediction: 4 answer: 9\n",
            "prediction: 4 answer: 6\n",
            "prediction: 3 answer: 8\n",
            "prediction: 4 answer: 2\n",
            "prediction: 3 answer: 5\n",
            "prediction: 8 answer: 5\n",
            "prediction: 2 answer: 8\n",
            "prediction: 3 answer: 7\n",
            "prediction: 0 answer: 9\n",
            "prediction: 1 answer: 6\n",
            "prediction: 4 answer: 8\n",
            "prediction: 9 answer: 4\n",
            "prediction: 3 answer: 2\n",
            "prediction: 0 answer: 5\n",
            "prediction: 4 answer: 9\n",
            "prediction: 4 answer: 6\n",
            "prediction: 0 answer: 8\n",
            "prediction: 5 answer: 9\n",
            "prediction: 7 answer: 3\n",
            "prediction: 5 answer: 3\n",
            "prediction: 8 answer: 6\n",
            "prediction: 1 answer: 9\n",
            "prediction: 8 answer: 6\n",
            "prediction: 7 answer: 9\n",
            "prediction: 2 answer: 1\n",
            "prediction: 5 answer: 3\n",
            "prediction: 4 answer: 5\n",
            "prediction: 9 answer: 5\n",
            "prediction: 2 answer: 3\n",
            "prediction: 0 answer: 6\n",
            "prediction: 3 answer: 8\n",
            "prediction: 9 answer: 0\n",
            "prediction: 5 answer: 6\n",
            "prediction: 3 answer: 8\n",
            "prediction: 3 answer: 2\n",
            "prediction: 7 answer: 5\n",
            "prediction: 9 answer: 7\n",
            "prediction: 0 answer: 6\n",
            "prediction: 1 answer: 9\n",
            "prediction: 4 answer: 6\n",
            "prediction: 9 answer: 4\n",
            "prediction: 2 answer: 3\n",
            "prediction: 5 answer: 6\n",
            "prediction: 0 answer: 5\n",
            "prediction: 5 answer: 8\n",
            "prediction: 5 answer: 0\n",
            "prediction: 8 answer: 7\n",
            "prediction: 3 answer: 9\n",
            "prediction: 4 answer: 7\n",
            "prediction: 3 answer: 8\n",
            "prediction: 3 answer: 8\n",
            "prediction: 3 answer: 2\n",
            "prediction: 3 answer: 5\n",
            "prediction: 9 answer: 4\n",
            "prediction: 4 answer: 6\n",
            "prediction: 2 answer: 7\n",
            "prediction: 5 answer: 8\n",
            "prediction: 5 answer: 0\n",
            "prediction: 3 answer: 7\n",
            "prediction: 8 answer: 5\n",
            "prediction: 6 answer: 4\n",
            "prediction: 4 answer: 9\n",
            "prediction: 3 answer: 7\n",
            "prediction: 3 answer: 2\n",
            "prediction: 1 answer: 7\n",
            "prediction: 2 answer: 6\n",
            "prediction: 4 answer: 9\n",
            "prediction: 8 answer: 2\n",
            "prediction: 6 answer: 5\n",
            "prediction: 3 answer: 5\n",
            "prediction: 2 answer: 1\n",
            "prediction: 6 answer: 4\n",
            "prediction: 5 answer: 3\n",
            "prediction: 1 answer: 7\n",
            "prediction: 4 answer: 9\n",
            "prediction: 9 answer: 8\n",
            "prediction: 8 answer: 9\n",
            "prediction: 4 answer: 7\n",
            "prediction: 9 answer: 7\n",
            "prediction: 5 answer: 6\n",
            "prediction: 2 answer: 0\n",
            "prediction: 3 answer: 8\n",
            "prediction: 3 answer: 9\n",
            "prediction: 2 answer: 8\n",
            "prediction: 4 answer: 9\n",
            "prediction: 6 answer: 5\n",
            "prediction: 9 answer: 7\n",
            "prediction: 7 answer: 1\n",
            "prediction: 7 answer: 9\n",
            "prediction: 8 answer: 2\n",
            "prediction: 7 answer: 2\n",
            "prediction: 9 answer: 5\n",
            "prediction: 7 answer: 3\n",
            "prediction: 3 answer: 5\n",
            "prediction: 8 answer: 5\n",
            "prediction: 3 answer: 5\n",
            "prediction: 4 answer: 9\n",
            "prediction: 4 answer: 9\n",
            "prediction: 2 answer: 7\n",
            "prediction: 7 answer: 3\n",
            "prediction: 7 answer: 8\n",
            "prediction: 9 answer: 7\n",
            "prediction: 1 answer: 9\n",
            "prediction: 8 answer: 9\n",
            "prediction: 5 answer: 6\n",
            "prediction: 4 answer: 6\n",
            "prediction: 6 answer: 5\n",
            "prediction: 8 answer: 6\n",
            "prediction: 4 answer: 8\n",
            "prediction: 9 answer: 8\n",
            "prediction: 7 answer: 8\n",
            "prediction: 2 answer: 7\n",
            "prediction: 7 answer: 3\n",
            "prediction: 8 answer: 9\n",
            "prediction: 3 answer: 8\n",
            "prediction: 4 answer: 6\n",
            "prediction: 4 answer: 9\n",
            "prediction: 2 answer: 7\n",
            "prediction: 0 answer: 9\n",
            "prediction: 4 answer: 2\n",
            "prediction: 8 answer: 0\n",
            "prediction: 1 answer: 7\n",
            "prediction: 2 answer: 8\n",
            "prediction: 4 answer: 8\n",
            "prediction: 9 answer: 7\n",
            "prediction: 2 answer: 3\n",
            "prediction: 3 answer: 2\n",
            "prediction: 5 answer: 8\n",
            "prediction: 8 answer: 3\n",
            "prediction: 4 answer: 8\n",
            "prediction: 4 answer: 8\n",
            "prediction: 2 answer: 7\n",
            "prediction: 4 answer: 6\n",
            "prediction: 6 answer: 1\n",
            "prediction: 8 answer: 1\n",
            "prediction: 3 answer: 8\n",
            "prediction: 9 answer: 7\n",
            "prediction: 3 answer: 2\n",
            "prediction: 8 answer: 1\n",
            "prediction: 2 answer: 4\n",
            "prediction: 7 answer: 3\n",
            "prediction: 3 answer: 5\n",
            "prediction: 6 answer: 8\n",
            "prediction: 9 answer: 7\n",
            "prediction: 7 answer: 4\n",
            "prediction: 4 answer: 7\n",
            "prediction: 4 answer: 7\n",
            "prediction: 5 answer: 7\n",
            "prediction: 3 answer: 5\n",
            "prediction: 9 answer: 4\n",
            "prediction: 9 answer: 4\n",
            "prediction: 3 answer: 5\n",
            "prediction: 8 answer: 3\n",
            "prediction: 3 answer: 5\n",
            "prediction: 8 answer: 3\n",
            "prediction: 3 answer: 5\n",
            "prediction: 8 answer: 5\n",
            "prediction: 8 answer: 5\n",
            "prediction: 8 answer: 3\n",
            "prediction: 5 answer: 3\n",
            "prediction: 8 answer: 3\n",
            "prediction: 8 answer: 3\n",
            "prediction: 3 answer: 9\n",
            "prediction: 3 answer: 9\n",
            "prediction: 3 answer: 9\n",
            "prediction: 8 answer: 1\n",
            "prediction: 3 answer: 9\n",
            "prediction: 3 answer: 9\n",
            "prediction: 2 answer: 9\n",
            "prediction: 8 answer: 5\n",
            "prediction: 2 answer: 6\n",
            "prediction: 6 answer: 0\n",
            "prediction: 4 answer: 7\n",
            "prediction: 0 answer: 9\n",
            "prediction: 5 answer: 0\n",
            "prediction: 9 answer: 8\n",
            "prediction: 2 answer: 6\n",
            "prediction: 3 answer: 9\n",
            "prediction: 9 answer: 3\n",
            "prediction: 4 answer: 9\n",
            "prediction: 7 answer: 9\n",
            "prediction: 6 answer: 2\n",
            "prediction: 5 answer: 0\n",
            "prediction: 7 answer: 0\n",
            "prediction: 5 answer: 9\n",
            "prediction: 8 answer: 0\n",
            "prediction: 0 answer: 9\n",
            "prediction: 8 answer: 2\n",
            "prediction: 9 answer: 8\n",
            "prediction: 6 answer: 1\n",
            "prediction: 4 answer: 9\n",
            "prediction: 4 answer: 9\n",
            "prediction: 4 answer: 6\n",
            "prediction: 4 answer: 6\n",
            "prediction: 3 answer: 0\n",
            "prediction: 9 answer: 7\n",
            "prediction: 9 answer: 4\n",
            "prediction: 2 answer: 3\n",
            "prediction: 3 answer: 7\n",
            "prediction: 8 answer: 4\n",
            "prediction: 9 answer: 8\n",
            "prediction: 9 answer: 8\n",
            "prediction: 4 answer: 7\n",
            "prediction: 8 answer: 5\n",
            "prediction: 2 answer: 3\n",
            "prediction: 4 answer: 2\n",
            "prediction: 8 answer: 1\n",
            "prediction: 2 answer: 3\n",
            "prediction: 8 answer: 1\n",
            "prediction: 9 answer: 4\n",
            "prediction: 8 answer: 5\n",
            "prediction: 8 answer: 2\n",
            "prediction: 8 answer: 3\n",
            "prediction: 8 answer: 3\n",
            "prediction: 8 answer: 3\n",
            "prediction: 4 answer: 8\n",
            "prediction: 8 answer: 3\n",
            "prediction: 4 answer: 6\n",
            "prediction: 6 answer: 0\n",
            "prediction: 7 answer: 9\n",
            "prediction: 5 answer: 8\n",
            "prediction: 5 answer: 8\n",
            "prediction: 8 answer: 5\n",
            "prediction: 9 answer: 4\n",
            "prediction: 2 answer: 7\n",
            "prediction: 2 answer: 7\n",
            "prediction: 5 answer: 0\n",
            "prediction: 2 answer: 7\n",
            "prediction: 2 answer: 3\n",
            "prediction: 2 answer: 7\n",
            "prediction: 8 answer: 1\n",
            "prediction: 5 answer: 8\n",
            "prediction: 5 answer: 8\n",
            "prediction: 4 answer: 6\n",
            "prediction: 3 answer: 5\n",
            "prediction: 3 answer: 5\n",
            "prediction: 3 answer: 5\n",
            "prediction: 8 answer: 9\n",
            "prediction: 4 answer: 9\n",
            "prediction: 3 answer: 0\n",
            "prediction: 7 answer: 2\n",
            "prediction: 0 answer: 6\n",
            "prediction: 7 answer: 9\n",
            "prediction: 5 answer: 6\n",
            "prediction: 1 answer: 2\n",
            "prediction: 0 answer: 5\n",
            "prediction: 6 answer: 5\n",
            "prediction: 1 answer: 8\n",
            "prediction: 2 answer: 4\n",
            "prediction: 6 answer: 5\n",
            "prediction: 5 answer: 8\n",
            "prediction: 0 answer: 2\n",
            "prediction: 0 answer: 5\n",
            "prediction: 0 answer: 2\n",
            "prediction: 9 answer: 4\n",
            "prediction: 4 answer: 9\n",
            "prediction: 8 answer: 2\n",
            "prediction: 7 answer: 2\n",
            "prediction: 5 answer: 8\n",
            "prediction: 0 answer: 2\n",
            "prediction: 7 answer: 3\n",
            "prediction: 9 answer: 3\n",
            "prediction: 3 answer: 5\n",
            "prediction: 3 answer: 5\n"
          ]
        }
      ]
    },
    {
      "cell_type": "markdown",
      "metadata": {
        "id": "beF870pABHKe"
      },
      "source": [
        "## 3d) Opcional: Crea tus propios ejemplos de dígitos para clasificar"
      ]
    },
    {
      "cell_type": "code",
      "metadata": {
        "id": "KOqCJx4LBG1W"
      },
      "source": [
        "# Acá tu código"
      ],
      "execution_count": null,
      "outputs": []
    }
  ]
}