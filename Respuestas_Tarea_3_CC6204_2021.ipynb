{
  "nbformat": 4,
  "nbformat_minor": 0,
  "metadata": {
    "kernelspec": {
      "display_name": "Python 3",
      "language": "python",
      "name": "python3"
    },
    "language_info": {
      "codemirror_mode": {
        "name": "ipython",
        "version": 3
      },
      "file_extension": ".py",
      "mimetype": "text/x-python",
      "name": "python",
      "nbconvert_exporter": "python",
      "pygments_lexer": "ipython3",
      "version": "3.6.8"
    },
    "colab": {
      "name": "Copy of Respuestas_Tarea_3_CC6204_2021",
      "provenance": [],
      "collapsed_sections": []
    },
    "accelerator": "GPU"
  },
  "cells": [
    {
      "cell_type": "markdown",
      "metadata": {
        "id": "vEJLFL-H5axT"
      },
      "source": [
        "# Tarea 3: Regularización y Optimización <br/> CC6204 Deep Learning, Universidad de Chile  <br/> Hoja de respuestas\n",
        "## Nombre: Gabriel Rojas\n",
        "\n",
        "**Fecha de entrega: 29 de Octubre**\n"
      ]
    },
    {
      "cell_type": "code",
      "metadata": {
        "id": "54d9w9Y7XXmc",
        "colab": {
          "base_uri": "https://localhost:8080/"
        },
        "outputId": "48fae1ae-5780-4e49-9414-00c896de3ee4"
      },
      "source": [
        "# Este notebook está pensado para correr en CoLaboratory. \n",
        "# Lo único imprescindible por importar es torch\n",
        "import torch\n",
        "\n",
        "# Posiblemenete quieras instalar e importar ipdb para debuggear.\n",
        "# Si es así, descomenta lo siguiente:\n",
        "# !pip install -q ipdb\n",
        "# import ipdb\n",
        "\n",
        "# Aqui instalamos la libreria de correccion del curso\n",
        "!pip install -U \"git+https://github.com/dccuchile/CC6204.git@master#egg=cc6204&subdirectory=autocorrect\"\n",
        "from timeit import default_timer as timer"
      ],
      "execution_count": null,
      "outputs": [
        {
          "output_type": "stream",
          "name": "stdout",
          "text": [
            "Collecting cc6204\n",
            "  Cloning https://github.com/dccuchile/CC6204.git (to revision master) to /tmp/pip-install-7s5qo90f/cc6204_e09bba99eb55418da7069201ac3aba98\n",
            "  Running command git clone -q https://github.com/dccuchile/CC6204.git /tmp/pip-install-7s5qo90f/cc6204_e09bba99eb55418da7069201ac3aba98\n",
            "Requirement already satisfied: requests in /usr/local/lib/python3.7/dist-packages (from cc6204) (2.23.0)\n",
            "Requirement already satisfied: numpy in /usr/local/lib/python3.7/dist-packages (from cc6204) (1.19.5)\n",
            "Requirement already satisfied: torch in /usr/local/lib/python3.7/dist-packages (from cc6204) (1.10.0+cu111)\n",
            "Requirement already satisfied: idna<3,>=2.5 in /usr/local/lib/python3.7/dist-packages (from requests->cc6204) (2.10)\n",
            "Requirement already satisfied: urllib3!=1.25.0,!=1.25.1,<1.26,>=1.21.1 in /usr/local/lib/python3.7/dist-packages (from requests->cc6204) (1.24.3)\n",
            "Requirement already satisfied: certifi>=2017.4.17 in /usr/local/lib/python3.7/dist-packages (from requests->cc6204) (2021.10.8)\n",
            "Requirement already satisfied: chardet<4,>=3.0.2 in /usr/local/lib/python3.7/dist-packages (from requests->cc6204) (3.0.4)\n",
            "Requirement already satisfied: typing-extensions in /usr/local/lib/python3.7/dist-packages (from torch->cc6204) (3.10.0.2)\n"
          ]
        }
      ]
    },
    {
      "cell_type": "code",
      "metadata": {
        "id": "xDYIQbJuXY9U",
        "colab": {
          "base_uri": "https://localhost:8080/"
        },
        "outputId": "fa7e2edc-b188-45b2-c317-82925768162f"
      },
      "source": [
        "# importamos las herramientas del curso\n",
        "from cc6204 import AutoCorrect, FailedTest\n",
        "\n",
        "# ingresa el host y port que posteamos en u-cursos\n",
        "corrector = AutoCorrect(host=\"cc6204.dcc.uchile.cl\", port=443)\n",
        "\n",
        "# anota el token que te daremos en u-cursos\n",
        "token = \"]ye/Ox;nsz\""
      ],
      "execution_count": null,
      "outputs": [
        {
          "output_type": "stream",
          "name": "stdout",
          "text": [
            "Connection stablished\n"
          ]
        }
      ]
    },
    {
      "cell_type": "markdown",
      "metadata": {
        "id": "fg8i3agyXDSr"
      },
      "source": [
        "# Parte 1: Regularización y Generalización\n",
        "\n"
      ]
    },
    {
      "cell_type": "markdown",
      "metadata": {
        "id": "NbzcMAkOXDSr"
      },
      "source": [
        "## 1a) Regularización por *weight decay*"
      ]
    },
    {
      "cell_type": "code",
      "metadata": {
        "id": "6QfQVggvNuv9"
      },
      "source": [
        "# Tu código debiera continuar así\n",
        "class SGD():\n",
        "  def __init__(self, parameters, lr, beta=0):\n",
        "    # lo que sea necesario inicializar\n",
        "    self.params = [p for p in parameters if p is not None]\n",
        "    self.lr = lr\n",
        "    self.beta = beta\n",
        "  \n",
        "  def step(self):\n",
        "    # actualiza acá los parámetros a partir de los gradientes\n",
        "    # y considera el nuevo valor beta\n",
        "    for p in self.params:\n",
        "      p.data *= (1-self.beta)\n",
        "      p.data -= self.lr*p.grad"
      ],
      "execution_count": null,
      "outputs": []
    },
    {
      "cell_type": "code",
      "metadata": {
        "id": "jJMKrtjZcXDH",
        "colab": {
          "base_uri": "https://localhost:8080/"
        },
        "outputId": "939e2e6e-d559-4afa-c89f-b3ea1c6aeb84"
      },
      "source": [
        "# Tests del API del curso\n",
        "weight, grad = corrector.get_test_data(homework=3, question=\"1a\", test=1, token=token)\n",
        "\n",
        "weight = torch.tensor(weight, requires_grad=True)\n",
        "weight.grad = torch.tensor(grad)\n",
        "\n",
        "optimizer = SGD([weight], lr=0.1, beta=0.1)\n",
        "optimizer.step()\n",
        "\n",
        "# Submit\n",
        "corrector.submit(homework=3, question=\"1a\", test=1, token=token, answer=weight)"
      ],
      "execution_count": null,
      "outputs": [
        {
          "output_type": "stream",
          "name": "stdout",
          "text": [
            "Correct Test!\n"
          ]
        }
      ]
    },
    {
      "cell_type": "markdown",
      "metadata": {
        "id": "ifPp_c1eXDSt"
      },
      "source": [
        "## 1b) Regularización por dropout"
      ]
    },
    {
      "cell_type": "markdown",
      "metadata": {
        "id": "InfEB_1uPfcA"
      },
      "source": [
        "Para esta parte de la tarea, va a ser necesario modificar el método `forward` para que entregue el valor a la salida de la i-esima capa escondida. Para esto se modifica el método forward para que reciba un parámetro `output_layer` que indica luego de que capa escondida se espera el output."
      ]
    },
    {
      "cell_type": "code",
      "metadata": {
        "id": "6e2h_uwETglN"
      },
      "source": [
        "# Los gradientes se pueden implementar como parte de cada una de las funciones de activación\n",
        "# En el caso de swish y celu devuelven una tupla (d_dx, d_dp)\n",
        "\n",
        "def sig(T, gradient=False):\n",
        "  if gradient:\n",
        "    sigT = sig(T)\n",
        "    return sigT * (1 - sigT)\n",
        "  return torch.reciprocal(1 + torch.exp(-1 * T))\n",
        "  \n",
        "def tanh(T, gradient=False):\n",
        "  if gradient:\n",
        "    tanhT = tanh(T)\n",
        "    return 1 - tanhT * tanhT\n",
        "  E = torch.exp(T)\n",
        "  e = torch.exp(-1 * T)\n",
        "  return (E - e) * torch.reciprocal(E + e)\n",
        "\n",
        "def relu(T, gradient=False):\n",
        "  if gradient:\n",
        "    outT = torch.zeros_like(T)\n",
        "    outT[T>=0] = 1\n",
        "    return outT\n",
        "  return torch.max(T, torch.zeros_like(T))\n",
        "\n",
        "def swish(T, beta=1, gradient=False):\n",
        "  if gradient:\n",
        "    sigbT = sig(beta * T)\n",
        "    swishT = T * sigbT\n",
        "    return sigbT + beta * swishT * (1 - sigbT), swishT * (T - swishT)\n",
        "  return T * torch.reciprocal(1 + torch.exp(-beta * T))\n",
        "\n",
        "def celu(T, alpha=1, gradient=False):\n",
        "  if alpha == 0:\n",
        "    raise ValueError(\"alpha cannot be 0\")\n",
        "\n",
        "  zeros = torch.zeros_like(T)\n",
        "  Talpha = T / alpha\n",
        "  \n",
        "  if gradient:\n",
        "    e = Talpha.exp()\n",
        "    d_dx = torch.ones_like(T)\n",
        "    d_dx[T<0] = e[T<0]\n",
        "    zeros[T<0] = (celu(T)[T<0] - T[T<0] * e[T<0]) / alpha\n",
        "    return d_dx, zeros # d_dx, d_da\n",
        "  \n",
        "  return torch.max(zeros, T) + torch.min(zeros, alpha * (Talpha).expm1())\n",
        "\n",
        "def softmax(T, dim, estable=True):\n",
        "  if estable:\n",
        "    T -= T.max(dim=dim, keepdim=True)[0]  # keepdim=True => output has dim with size 1. Otherwise, dim is squeezed\n",
        "  exp = torch.exp(T)\n",
        "  return exp / torch.sum(exp, dim=dim, keepdim=True)  # keepdim=True => output has dim with size 1. Otherwise, dim is squeezed"
      ],
      "execution_count": null,
      "outputs": []
    },
    {
      "cell_type": "code",
      "metadata": {
        "id": "w4wXj3AUXDSu"
      },
      "source": [
        "# Tu código debiera continuar como sigue\n",
        "\n",
        "import torch.nn as nn\n",
        "from torch.nn import Parameter, ParameterList\n",
        "import math\n",
        "\n",
        "def get_init_weights(shape):\n",
        "  W = torch.randn(shape)\n",
        "  # stdv = 1. / math.sqrt(W.size(1))\n",
        "  # W.data.uniform_(-stdv, stdv)\n",
        "  return Parameter(W)\n",
        "\n",
        "\n",
        "class FFNN(nn.Module):\n",
        "  def __init__(self, F, l_h, l_a, l_a_params, C, keep_prob=None):\n",
        "    # debes crear los parámetros necesarios para hacer \n",
        "    # dropout en cada capa dependiendo de keep_prob\n",
        "    super(FFNN, self).__init__()\n",
        "       \n",
        "    self.sizes = [F] + l_h + [C]\n",
        "    self.Ws = ParameterList([get_init_weights((self.sizes[i], self.sizes[i+1])) for i in range(len(self.sizes)-1)])\n",
        "    self.bs = ParameterList([Parameter(torch.zeros(h)) for h in self.sizes[1:]])\n",
        "    self.fs = l_a\n",
        "    if l_a_params is not None:\n",
        "      self.fs_ps_mask = [Parameter(torch.tensor(p)) if p else None for p in l_a_params]\n",
        "    else:\n",
        "      self.fs_ps_mask = [None for _ in l_a]\n",
        "    self.keep_prob = keep_prob\n",
        "    if self.keep_prob is not None:\n",
        "      self.generate_dropout_mask()\n",
        "    else:\n",
        "      self.drop = [1.0 for _ in range(len(self.sizes)-1)]\n",
        "    self.fs_ps = ParameterList([p for p in self.fs_ps_mask if p])\n",
        "\n",
        "  def generate_dropout_mask(self):\n",
        "    device = self.Ws[0].device\n",
        "    if self.keep_prob is not None:\n",
        "      self.drop = [(torch.rand(self.sizes[i])<=self.keep_prob[i]).float().to(device) / self.keep_prob[i] for i in range(len(self.keep_prob))]\n",
        "  \n",
        "  def forward(self, x, predict=False):\n",
        "    # debes modificar esta función para considerar el dropout\n",
        "    # y preocuparte de no considerarlo cuando (predict=True)\n",
        "    self.cacheU = [] #, self.cacheH = [], []\n",
        "    if self.keep_prob is not None:\n",
        "      self.generate_dropout_mask()\n",
        "    for W, b, f, p, d in zip(self.Ws[:-1], self.bs[:-1], self.fs, self.fs_ps_mask, self.drop):\n",
        "      if not predict:\n",
        "        x *= d\n",
        "      x = (torch.mm(x, W) + b)\n",
        "      self.cacheU.append(x)\n",
        "      x = f(x, p.item()) if p else f(x)\n",
        "      # self.cacheH.append(x)\n",
        "    return softmax(torch.mm(x, self.Ws[-1]) + self.bs[-1], dim=1)\n",
        "  \n",
        "  def backward(self, x, y, y_pred):\n",
        "    # computar acá todos los gradientes considerando el dropout \n",
        "    current_grad = (y_pred - y) / y.size(0)\n",
        "    \n",
        "    for i in range(len(self.Ws)-1, 0, -1):\n",
        "      if self.fs_ps_mask[i-1] is None:\n",
        "        # funcion de activacion sin parametro\n",
        "        self.Ws[i].grad = self.fs[i-1](self.cacheU[i-1]).t() @ current_grad\n",
        "      else:\n",
        "        # funcion de activacion con parametro\n",
        "        self.Ws[i].grad = self.fs[i-1](self.cacheU[i-1], self.fs_ps_mask[i-1].item()).t() @ current_grad\n",
        "      self.bs[i].grad = current_grad.sum(dim=0)\n",
        "      h_grad = current_grad @ self.Ws[i].t() * self.drop[i]\n",
        "      \n",
        "      if self.fs_ps_mask[i-1] is None:\n",
        "        # funcion de activacion sin parametro\n",
        "        current_grad = self.fs[i-1](self.cacheU[i-1], gradient=True) * h_grad \n",
        "      else:\n",
        "        # funcion de activacion con parametro\n",
        "        current_grad, p_grad = self.fs[i-1](self.cacheU[i-1], self.fs_ps_mask[i-1], gradient=True)\n",
        "        current_grad *= h_grad \n",
        "        self.fs_ps_mask[i-1].grad = (p_grad * h_grad).sum()\n",
        "    \n",
        "    self.Ws[0].grad = x.t() @ current_grad\n",
        "    self.bs[0].grad = current_grad.sum(dim=0)"
      ],
      "execution_count": null,
      "outputs": []
    },
    {
      "cell_type": "code",
      "metadata": {
        "id": "qrjGpVdg4xi1",
        "colab": {
          "base_uri": "https://localhost:8080/"
        },
        "outputId": "5620b4dd-042c-464b-af8d-dd1cc21bd2a4"
      },
      "source": [
        "# Tests del API del curso\n",
        "torch.manual_seed(0)\n",
        "sample = torch.rand(1, 10)\n",
        "red = FFNN(10, [1000], [sig], [None], 1, keep_prob=[1.0, 0.5])\n",
        "y = red(sample)\n",
        "output_mask = (y == 0)\n",
        "percent = torch.sum(output_mask).item() / list(output_mask.size())[-1]\n",
        "\n",
        "# Submit\n",
        "corrector.submit(homework=3, question=\"1b\", test=1, token=token, answer=percent)"
      ],
      "execution_count": null,
      "outputs": [
        {
          "output_type": "stream",
          "name": "stdout",
          "text": [
            "Correct Test!\n"
          ]
        }
      ]
    },
    {
      "cell_type": "markdown",
      "metadata": {
        "id": "rlLnZM7hi0C2"
      },
      "source": [
        "## 1c) Entrenamiento y generalización sobre MNIST "
      ]
    },
    {
      "cell_type": "code",
      "metadata": {
        "id": "7Qj1GI81izYt",
        "colab": {
          "base_uri": "https://localhost:8080/"
        },
        "outputId": "cbfe21c1-1437-4a78-8a48-f3c2a559a298"
      },
      "source": [
        "# Tu código de carga de datos, creación de la red, \n",
        "# entrenamiento/optimización y reportes acá\n",
        "from torchvision.datasets import MNIST\n",
        "from torchvision.transforms import ToTensor\n",
        "\n",
        "# Importamos funcionalidades útiles para mirar los datos.\n",
        "from matplotlib.pyplot import subplots\n",
        "from random import randint\n",
        "\n",
        "from torch.utils.data import Dataset, DataLoader\n",
        "\n",
        "# Descarga y almacena el conjunto de prueba de MNIST.\n",
        "mnist_train_dataset = MNIST('mnist', train=True, transform=ToTensor(), download=True)\n",
        "mnist_test_dataset = MNIST('mnist', train=False, transform=ToTensor(), download=True)\n",
        "print('Cantidad total de datos de entrenamiento:',len(mnist_train_dataset))\n",
        "print('Cantidad total de datos de testeo:',len(mnist_test_dataset))"
      ],
      "execution_count": null,
      "outputs": [
        {
          "output_type": "stream",
          "name": "stdout",
          "text": [
            "Cantidad total de datos de entrenamiento: 60000\n",
            "Cantidad total de datos de testeo: 10000\n"
          ]
        }
      ]
    },
    {
      "cell_type": "code",
      "metadata": {
        "id": "jFlDI8Dkj5Pf"
      },
      "source": [
        "# Tu código acá\n",
        "def CELoss(Q, P, estable=True, epsilon=1e-8):\n",
        "  N = Q.shape[0]\n",
        "  if estable:\n",
        "    Q = Q.clamp(epsilon, 1-epsilon)\n",
        "  return -(P * Q.log()).sum()/N"
      ],
      "execution_count": null,
      "outputs": []
    },
    {
      "cell_type": "code",
      "metadata": {
        "id": "WtOCN3ODdobX"
      },
      "source": [
        "import time\n",
        "import sys\n",
        "\n",
        "def entrenar_FFNN(red, dataset, optimizador, epochs=1, batch_size=1, reports_every=1, device='cuda'):\n",
        "  red.to(device)\n",
        "  data = DataLoader(dataset, batch_size, shuffle=True)\n",
        "  total=len(dataset)\n",
        "  tiempo_epochs = 0\n",
        "  loss, acc = [], []\n",
        "  for e in range(1,epochs+1):  \n",
        "    inicio_epoch = timer()\n",
        "    \n",
        "    for x, y in data:\n",
        "      x, y = x.view(x.size(0), -1).float().to(device), y.to(device)\n",
        "      \n",
        "      y_pred = red(x)\n",
        "      \n",
        "      y_onehot = torch.zeros_like(y_pred)\n",
        "      y_onehot[torch.arange(x.size(0)), y] = 1.\n",
        "    \n",
        "      red.backward(x, y_onehot, y_pred)\n",
        "\n",
        "      optimizador.step()\n",
        "      \n",
        "    tiempo_epochs += timer() - inicio_epoch\n",
        "    \n",
        "    if e % reports_every == 0:\n",
        "      X = dataset.data.view(len(dataset), -1).float().to(device)\n",
        "      Y = dataset.targets.to(device)\n",
        "      \n",
        "      Y_PRED = red.forward(X).to(device)\n",
        "      \n",
        "      Y_onehot = torch.zeros_like(Y_PRED)\n",
        "      Y_onehot[torch.arange(X.size(0)), Y] = 1.\n",
        "\n",
        "      L_total = CELoss(Y_PRED, Y_onehot)\n",
        "      loss.append(L_total)\n",
        "      diff = Y-torch.argmax(Y_PRED,1)\n",
        "      errores = torch.nonzero(diff).size(0)\n",
        "      \n",
        "      Acc=100*(total-errores)/total\n",
        "      acc.append(Acc)\n",
        "\n",
        "      sys.stdout.write(\n",
        "            '\\rEpoch:{0:03d}'.format(e) + ' Acc:{0:.2f}%'.format(Acc)\n",
        "            + ' Loss:{0:.4f}'.format(L_total) \n",
        "            + ' Tiempo/epoch:{0:.3f}s'.format(tiempo_epochs/e))\n",
        "  \n",
        "  return loss, acc\n"
      ],
      "execution_count": null,
      "outputs": []
    },
    {
      "cell_type": "code",
      "metadata": {
        "id": "DjM5afOWd2jN"
      },
      "source": [
        "def calcula_acierto(red, dataset, batch_size=100, device='cuda'):\n",
        "  red.to(device)\n",
        "  data_loader = DataLoader(dataset, batch_size=batch_size)\n",
        "  corrects_total = 0\n",
        "  for i, (x, y) in enumerate(data_loader):\n",
        "      x = x.view(-1, F).to(device)\n",
        "      \n",
        "      predictions = torch.max(red(x, predict=True), dim=1)[1]\n",
        "      corrects = int((predictions == y.to(device)).sum())\n",
        "      corrects_total += corrects\n",
        "      \n",
        "      if i % 10 == 0:\n",
        "        print('iter {} of {}'.format(i, len(data_loader)))\n",
        "\n",
        "  print('Acc: {}%'.format(100*corrects_total/len(dataset)))"
      ],
      "execution_count": null,
      "outputs": []
    },
    {
      "cell_type": "code",
      "metadata": {
        "id": "W9oC09nGdtZl"
      },
      "source": [
        "N, F, C = len(mnist_train_dataset), 28*28, 10\n",
        "# Red sin dropout\n",
        "red_mnist_no_dropout = FFNN(F, [500], [relu], [None], C)\n",
        "optimizer_mnist_no_dropout = SGD(red_mnist_no_dropout.parameters(), 1e-3)\n",
        "\n",
        "total_loss_mnist_no_dropout = []\n",
        "total_acc_mnist_no_dropout = []\n",
        "\n",
        "# Red 1 con dropout\n",
        "red_mnist_dropout1 = FFNN(F, [500], [relu], [None], C, keep_prob=[1.0,0.8])\n",
        "optimizer_mnist_dropout1 = SGD(red_mnist_dropout1.parameters(), 1e-3)\n",
        "\n",
        "total_loss_mnist_dropout1 = []\n",
        "total_acc_mnist_dropout1 = []\n",
        "\n",
        "# Red 2 con dropout\n",
        "red_mnist_dropout2 = FFNN(F, [500], [relu], [None], C, keep_prob=[1.0,0.5])\n",
        "optimizer_mnist_dropout2 = SGD(red_mnist_dropout2.parameters(), 1e-3)\n",
        "\n",
        "total_loss_mnist_dropout2 = []\n",
        "total_acc_mnist_dropout2 = []"
      ],
      "execution_count": null,
      "outputs": []
    },
    {
      "cell_type": "code",
      "metadata": {
        "colab": {
          "base_uri": "https://localhost:8080/"
        },
        "id": "q2jnm6nd-n5t",
        "outputId": "2cfa0df6-b30f-43af-89e2-d78e3a33f73f"
      },
      "source": [
        "device = 'cuda' if torch.cuda.is_available() else 'cpu'\n",
        "print(device)"
      ],
      "execution_count": null,
      "outputs": [
        {
          "output_type": "stream",
          "name": "stdout",
          "text": [
            "cuda\n"
          ]
        }
      ]
    },
    {
      "cell_type": "code",
      "metadata": {
        "colab": {
          "base_uri": "https://localhost:8080/"
        },
        "id": "Fivp74vreObk",
        "outputId": "bbd9b1d7-3608-4951-db3f-9a745837aeeb"
      },
      "source": [
        "epochs = 30\n",
        "batch_size = 32\n",
        "\n",
        "with torch.no_grad():\n",
        "  loss_mnist, acc_mnist = entrenar_FFNN(red_mnist_no_dropout, mnist_train_dataset, optimizer_mnist_no_dropout,\n",
        "                                          epochs=epochs, batch_size=batch_size, device=device)\n",
        "  total_loss_mnist_no_dropout += loss_mnist\n",
        "  total_acc_mnist_no_dropout += acc_mnist"
      ],
      "execution_count": null,
      "outputs": [
        {
          "output_type": "stream",
          "name": "stdout",
          "text": [
            "Epoch:030 Acc:92.40% Loss:1.3980 Tiempo/epoch:11.411s"
          ]
        }
      ]
    },
    {
      "cell_type": "code",
      "metadata": {
        "colab": {
          "base_uri": "https://localhost:8080/"
        },
        "id": "6zzedmQ0FiaM",
        "outputId": "8a8ee244-2376-4f1c-e851-89738692c4cc"
      },
      "source": [
        "print(\"Acierto red mnist sin dropout\")\n",
        "calcula_acierto(red_mnist_no_dropout, mnist_test_dataset, device=device)"
      ],
      "execution_count": null,
      "outputs": [
        {
          "output_type": "stream",
          "name": "stdout",
          "text": [
            "Acierto red mnist sin dropout\n",
            "iter 0 of 100\n",
            "iter 10 of 100\n",
            "iter 20 of 100\n",
            "iter 30 of 100\n",
            "iter 40 of 100\n",
            "iter 50 of 100\n",
            "iter 60 of 100\n",
            "iter 70 of 100\n",
            "iter 80 of 100\n",
            "iter 90 of 100\n",
            "Acc: 91.64%\n"
          ]
        }
      ]
    },
    {
      "cell_type": "code",
      "metadata": {
        "colab": {
          "base_uri": "https://localhost:8080/"
        },
        "id": "JuqmlPCuhY9I",
        "outputId": "73e1ff48-153e-4663-dfe9-7f5bc1e36f34"
      },
      "source": [
        "with torch.no_grad():\n",
        "  loss_mnist, acc_mnist = entrenar_FFNN(red_mnist_dropout1, mnist_train_dataset, optimizer_mnist_dropout1,\n",
        "                                          epochs=epochs, batch_size=batch_size, device=device)\n",
        "  total_loss_mnist_dropout1 += loss_mnist\n",
        "  total_acc_mnist_dropout1 += acc_mnist"
      ],
      "execution_count": null,
      "outputs": [
        {
          "output_type": "stream",
          "name": "stdout",
          "text": [
            "Epoch:030 Acc:92.34% Loss:1.4078 Tiempo/epoch:11.945s"
          ]
        }
      ]
    },
    {
      "cell_type": "code",
      "metadata": {
        "colab": {
          "base_uri": "https://localhost:8080/"
        },
        "id": "QrfMbC3YFnzJ",
        "outputId": "647861fc-5b0a-4f08-93c2-d052eec05a76"
      },
      "source": [
        "print(\"Acierto red mnist con dropout 0.8\")\n",
        "calcula_acierto(red_mnist_dropout1, mnist_test_dataset, device=device)"
      ],
      "execution_count": null,
      "outputs": [
        {
          "output_type": "stream",
          "name": "stdout",
          "text": [
            "\n",
            "Acierto red mnist con dropout 0.8 y 0.8\n",
            "iter 0 of 100\n",
            "iter 10 of 100\n",
            "iter 20 of 100\n",
            "iter 30 of 100\n",
            "iter 40 of 100\n",
            "iter 50 of 100\n",
            "iter 60 of 100\n",
            "iter 70 of 100\n",
            "iter 80 of 100\n",
            "iter 90 of 100\n",
            "Acc: 91.26%\n"
          ]
        }
      ]
    },
    {
      "cell_type": "code",
      "metadata": {
        "colab": {
          "base_uri": "https://localhost:8080/"
        },
        "id": "QuUzdGwyhYvX",
        "outputId": "a123cd04-eea7-48ff-d9c5-042a74df89c5"
      },
      "source": [
        "with torch.no_grad():\n",
        "  loss_mnist, acc_mnist = entrenar_FFNN(red_mnist_dropout2, mnist_train_dataset, optimizer_mnist_dropout2,\n",
        "                                          epochs=epochs, batch_size=batch_size, device=device)\n",
        "  total_loss_mnist_dropout2 += loss_mnist\n",
        "  total_acc_mnist_dropout2 += acc_mnist"
      ],
      "execution_count": null,
      "outputs": [
        {
          "output_type": "stream",
          "name": "stdout",
          "text": [
            "Epoch:030 Acc:92.35% Loss:1.4084 Tiempo/epoch:11.663s"
          ]
        }
      ]
    },
    {
      "cell_type": "code",
      "metadata": {
        "colab": {
          "base_uri": "https://localhost:8080/"
        },
        "id": "sRgX5LhBu7o-",
        "outputId": "994cc3c4-9e03-4bf7-87e0-9766604a7ffa"
      },
      "source": [
        "print(\"Acierto red mnist con dropout 0.5\")\n",
        "calcula_acierto(red_mnist_dropout2, mnist_test_dataset, device=device)"
      ],
      "execution_count": null,
      "outputs": [
        {
          "output_type": "stream",
          "name": "stdout",
          "text": [
            "\n",
            "Acierto red mnist con dropout 0.7 y 0.5\n",
            "iter 0 of 100\n",
            "iter 10 of 100\n",
            "iter 20 of 100\n",
            "iter 30 of 100\n",
            "iter 40 of 100\n",
            "iter 50 of 100\n",
            "iter 60 of 100\n",
            "iter 70 of 100\n",
            "iter 80 of 100\n",
            "iter 90 of 100\n",
            "Acc: 90.81%\n"
          ]
        }
      ]
    },
    {
      "cell_type": "markdown",
      "metadata": {
        "id": "9KaqO6lw0iKF"
      },
      "source": [
        "Podemos ver que la accuracy obtenidad es bastanate parecidad para varias epocas de los 3 modelos\n",
        "\n",
        "Graficos de loss y accuracy durante el **training**\n",
        "\n",
        "La accuracy verdadera es la anteriormente obtenida con el dataset de testing"
      ]
    },
    {
      "cell_type": "code",
      "metadata": {
        "id": "Ial267XNwfQp"
      },
      "source": [
        "import matplotlib.pyplot as plt\n",
        "\n",
        "def plot_results(loss, acc):\n",
        "  # Muestra dos figuras: \n",
        "  #  (1) gráfico para la lista `loss` (Loss) y \n",
        "  #  (2) gráfico para la lista `acc` (Accuracy)\n",
        "\n",
        "  f1 = plt.figure(1)\n",
        "  ax1 = f1.add_subplot(111)\n",
        "  ax1.set_title(\"Loss\")    \n",
        "  ax1.set_xlabel('epochs')\n",
        "  ax1.set_ylabel('loss')\n",
        "  ax1.plot(loss, c='r')\n",
        "  f1.show()\n",
        "\n",
        "  f2 = plt.figure(2)\n",
        "  ax2 = f2.add_subplot(111)\n",
        "  ax2.set_title(\"Accuracy\")    \n",
        "  ax2.set_xlabel('epochs')\n",
        "  ax2.set_ylabel('acc')\n",
        "  ax2.plot(acc, c='b')\n",
        "  f2.show()"
      ],
      "execution_count": null,
      "outputs": []
    },
    {
      "cell_type": "code",
      "metadata": {
        "colab": {
          "base_uri": "https://localhost:8080/",
          "height": 590
        },
        "id": "F4mrkKSdwlFH",
        "outputId": "1d7602c1-2d7a-4344-c07c-afb23e17fcf0"
      },
      "source": [
        "print(\"Acierto red mnist sin dropout\")\n",
        "plot_results(total_loss_mnist_no_dropout, total_acc_mnist_no_dropout)"
      ],
      "execution_count": null,
      "outputs": [
        {
          "output_type": "stream",
          "name": "stdout",
          "text": [
            "Acierto red mnist sin dropout\n"
          ]
        },
        {
          "output_type": "display_data",
          "data": {
            "image/png": "[encoded data removed]",
            "text/plain": [
              "<Figure size 432x288 with 1 Axes>"
            ]
          },
          "metadata": {
            "needs_background": "light"
          }
        },
        {
          "output_type": "display_data",
          "data": {
            "image/png": "[encoded data removed]",
            "text/plain": [
              "<Figure size 432x288 with 1 Axes>"
            ]
          },
          "metadata": {
            "needs_background": "light"
          }
        }
      ]
    },
    {
      "cell_type": "code",
      "metadata": {
        "colab": {
          "base_uri": "https://localhost:8080/",
          "height": 590
        },
        "id": "kn-CVGnQwnsV",
        "outputId": "48221691-6d60-41db-c559-2fbff840b209"
      },
      "source": [
        "print(\"Acierto red mnist con dropout 0.8\")\n",
        "plot_results(total_loss_mnist_dropout1, total_acc_mnist_dropout1)"
      ],
      "execution_count": null,
      "outputs": [
        {
          "output_type": "stream",
          "name": "stdout",
          "text": [
            "Acierto red mnist con dropout 0.8 y 0.8\n"
          ]
        },
        {
          "output_type": "display_data",
          "data": {
            "image/png": "[encoded data removed]",
            "text/plain": [
              "<Figure size 432x288 with 1 Axes>"
            ]
          },
          "metadata": {
            "needs_background": "light"
          }
        },
        {
          "output_type": "display_data",
          "data": {
            "image/png": "[encoded data removed]",
            "text/plain": [
              "<Figure size 432x288 with 1 Axes>"
            ]
          },
          "metadata": {
            "needs_background": "light"
          }
        }
      ]
    },
    {
      "cell_type": "code",
      "metadata": {
        "colab": {
          "base_uri": "https://localhost:8080/",
          "height": 590
        },
        "id": "dXB51xMRwopd",
        "outputId": "c6cf6a39-66cf-4463-a043-228c1d9a7595"
      },
      "source": [
        "print(\"Acierto red mnist con dropout 0.5\")\n",
        "plot_results(total_loss_mnist_dropout2, total_acc_mnist_dropout2)"
      ],
      "execution_count": null,
      "outputs": [
        {
          "output_type": "stream",
          "name": "stdout",
          "text": [
            "Acierto red mnist con dropout 0.7 y 0.5\n"
          ]
        },
        {
          "output_type": "display_data",
          "data": {
            "image/png": "[encoded data removed]",
            "text/plain": [
              "<Figure size 432x288 with 1 Axes>"
            ]
          },
          "metadata": {
            "needs_background": "light"
          }
        },
        {
          "output_type": "display_data",
          "data": {
            "image/png": "[encoded data removed]",
            "text/plain": [
              "<Figure size 432x288 with 1 Axes>"
            ]
          },
          "metadata": {
            "needs_background": "light"
          }
        }
      ]
    },
    {
      "cell_type": "markdown",
      "metadata": {
        "id": "EwedMCZjXDSw"
      },
      "source": [
        "# Parte 2: Optimización"
      ]
    },
    {
      "cell_type": "markdown",
      "metadata": {
        "id": "nftKKxlBXDSx"
      },
      "source": [
        "## 2a) Inicialización de Xavier/He"
      ]
    },
    {
      "cell_type": "markdown",
      "metadata": {
        "id": "yxEVEoeJTq81"
      },
      "source": [
        "Para los test de esta parte vamos a necesitar que modifiques tu código para que se pueda entregar valores predeterminados de `r`. Ahora tu código para las inicializaciones debe ser: `xavier_init(first_dim, second_dim, r=None)`, `he_init(first_dim, second_dim, r=None)`."
      ]
    },
    {
      "cell_type": "code",
      "metadata": {
        "id": "F7DHcaQDTimb"
      },
      "source": [
        "# Tu código debiera continuar como sigue\n",
        "def xavier_init(first_dim, second_dim, r=None):\n",
        "  res = torch.sqrt(torch.reciprocal(torch.tensor(first_dim)))\n",
        "  res = torch.ones([first_dim, second_dim]) * res\n",
        "  if r is not None:\n",
        "    res = r * res\n",
        "  return res\n",
        "  \n",
        "\n",
        "def he_init(first_dim, second_dim, r=None):\n",
        "  res = torch.sqrt(2 * torch.reciprocal(torch.tensor(first_dim)))\n",
        "  res = torch.ones([first_dim, second_dim]) * res\n",
        "  if r is not None:\n",
        "    res = r * res\n",
        "  return res"
      ],
      "execution_count": null,
      "outputs": []
    },
    {
      "cell_type": "code",
      "metadata": {
        "id": "7Rl25Jr5UAgv",
        "colab": {
          "base_uri": "https://localhost:8080/"
        },
        "outputId": "1cef4ae7-1ab7-4bfc-a7ec-852ed50dcb97"
      },
      "source": [
        "# Tests del API del curso\n",
        "r_xavier = corrector.get_test_data(homework=3, question=\"2a\", test=1, token=token)\n",
        "r_he = corrector.get_test_data(homework=3, question=\"2a\", test=2, token=token)\n",
        "\n",
        "w_xavier = xavier_init(50, 50, torch.tensor(r_xavier))\n",
        "w_he = he_init(50, 50, torch.tensor(r_he))\n",
        "\n",
        "corrector.submit(homework=3, question=\"2a\", test=1, token=token, answer=w_xavier)\n",
        "corrector.submit(homework=3, question=\"2a\", test=2, token=token, answer=w_he)"
      ],
      "execution_count": null,
      "outputs": [
        {
          "output_type": "stream",
          "name": "stdout",
          "text": [
            "Correct Test!\n",
            "Correct Test!\n"
          ]
        }
      ]
    },
    {
      "cell_type": "markdown",
      "metadata": {
        "id": "Nzp5SWKBXDSy"
      },
      "source": [
        "## 2b) Descenso de gradiente con momentum"
      ]
    },
    {
      "cell_type": "code",
      "metadata": {
        "id": "whoBUewrUgWB"
      },
      "source": [
        "# Tu código debiera continuar así\n",
        "\n",
        "class SGD():\n",
        "  def __init__(self, parameters, lr, beta=0, momentum=0):\n",
        "    # lo que sea necesario inicializar\n",
        "    self.params = [p for p in parameters if p is not None]\n",
        "    self.lr = lr\n",
        "    self.beta = beta\n",
        "    self.momentum = momentum\n",
        "    self.velocity = [torch.zeros_like(p) for p in self.params]\n",
        "  \n",
        "  def step(self):\n",
        "    # actualiza acá los parámetros a partir de los gradientes\n",
        "    # y considerando el valor de momentum que acabámos de agregar\n",
        "    for i in range(len(self.params)):\n",
        "      self.velocity[i] *= self.momentum\n",
        "      self.velocity[i] -= self.lr * self.params[i].grad\n",
        "      self.params[i].data += self.velocity[i]"
      ],
      "execution_count": null,
      "outputs": []
    },
    {
      "cell_type": "code",
      "metadata": {
        "id": "8WIcvmWUVl9r",
        "colab": {
          "base_uri": "https://localhost:8080/"
        },
        "outputId": "6fc10978-d7f1-4f95-eeba-2b60c9b13e20"
      },
      "source": [
        "# Tests del API del curso\n",
        "weight, grad = corrector.get_test_data(homework=3, question=\"2b\", test=1, token=token)\n",
        "\n",
        "weight = torch.tensor(weight, requires_grad=True)\n",
        "weight.grad = torch.tensor(grad)\n",
        "\n",
        "optimizer = SGD([weight], lr=0.1, momentum=0.9)\n",
        "optimizer.step()\n",
        "\n",
        "# Submit\n",
        "corrector.submit(homework=3, question=\"2b\", test=1, token=token, answer=weight)\n",
        "optimizer.step()\n",
        "corrector.submit(homework=3, question=\"2b\", test=2, token=token, answer=weight)"
      ],
      "execution_count": null,
      "outputs": [
        {
          "output_type": "stream",
          "name": "stdout",
          "text": [
            "Correct Test!\n",
            "Correct Test!\n"
          ]
        }
      ]
    },
    {
      "cell_type": "markdown",
      "metadata": {
        "id": "1WNYoTIHXDS0"
      },
      "source": [
        "## 2c) RMSProp"
      ]
    },
    {
      "cell_type": "code",
      "metadata": {
        "id": "IjLGmGoXV_kG"
      },
      "source": [
        "# Tu código acá\n",
        "\n",
        "class RMSProp():\n",
        "  def __init__(self, parameters, lr=0.001, beta=0.9, epsilon=1e-8):\n",
        "    # en este caso debes inicializar la variable que acumula\n",
        "    # el promedio exponencial de los cuadrados\n",
        "    self.params = [p for p in parameters if p is not None]\n",
        "    self.lr = lr\n",
        "    self.beta = beta\n",
        "    self.epsilon = epsilon\n",
        "    self.S = [torch.zeros_like(p) for p in self.params]\n",
        "  \n",
        "  def step(self):\n",
        "    # actualiza acá los parámetros a partir de los gradientes\n",
        "    # y la corrección según S\n",
        "    for i in range(len(self.params)):\n",
        "      self.S[i] *= self.beta\n",
        "      self.S[i] += (1 - self.beta) * ((self.params[i].grad) ** 2)\n",
        "      sqrt = torch.sqrt(self.S[i]) + self.epsilon\n",
        "      self.params[i].data -= self.lr * torch.reciprocal(sqrt) * self.params[i].grad"
      ],
      "execution_count": null,
      "outputs": []
    },
    {
      "cell_type": "code",
      "metadata": {
        "id": "PNnw6obOWDC4",
        "colab": {
          "base_uri": "https://localhost:8080/"
        },
        "outputId": "f8522032-bf1d-42f8-feb1-397f810974ef"
      },
      "source": [
        "# Tests del API del curso\n",
        "weight, grad = corrector.get_test_data(homework=3, question=\"2c\", test=1, token=token)\n",
        "\n",
        "weight = torch.tensor(weight, requires_grad=True)\n",
        "weight.grad = torch.tensor(grad)\n",
        "\n",
        "optimizer = RMSProp([weight], lr=0.001, beta=0.9, epsilon=1e-8)\n",
        "optimizer.step()\n",
        "\n",
        "# Submit\n",
        "corrector.submit(homework=3, question=\"2c\", test=1, token=token, answer=weight)\n",
        "optimizer.step()\n",
        "corrector.submit(homework=3, question=\"2c\", test=2, token=token, answer=weight)"
      ],
      "execution_count": null,
      "outputs": [
        {
          "output_type": "stream",
          "name": "stdout",
          "text": [
            "Correct Test!\n",
            "Correct Test!\n"
          ]
        }
      ]
    },
    {
      "cell_type": "markdown",
      "metadata": {
        "id": "QJTTDpeTWTwY"
      },
      "source": [
        "## 2d) Adam"
      ]
    },
    {
      "cell_type": "code",
      "metadata": {
        "id": "ola7FuFdWZH6"
      },
      "source": [
        "# Tu código acá\n",
        "\n",
        "class Adam():\n",
        "  def __init__(self, parameters, lr=0.001, beta1=0.9, beta2=0.999, epsilon=1e-8):\n",
        "    # en este caso debes inicializar la variable que acumula\n",
        "    # el promedio exponencial de los cuadrados\n",
        "    self.params = [p for p in parameters if p is not None]\n",
        "    self.lr = lr\n",
        "    self.beta1 = beta1\n",
        "    self.beta2 = beta2\n",
        "    self.epsilon = epsilon\n",
        "    self.n = 0\n",
        "    self.P = [torch.zeros_like(p) for p in self.params]\n",
        "    self.S = [torch.zeros_like(p) for p in self.params]\n",
        "    self.P_bar = [torch.zeros_like(p) for p in self.params]\n",
        "    self.S_bar = [torch.zeros_like(p) for p in self.params]\n",
        "  \n",
        "  def step(self):\n",
        "    # actualiza acá los parámetros a partir de los gradientes\n",
        "    # y la corrección según S\n",
        "    self.n += 1\n",
        "    for i in range(len(self.params)):\n",
        "      self.P[i] *= self.beta1\n",
        "      self.P[i] += (1 - self.beta1) * self.params[i].grad\n",
        "      self.S[i] *= self.beta2\n",
        "      self.S[i] += (1 - self.beta2) * (self.params[i].grad ** 2)\n",
        "      self.P_bar[i] = self.P[i] * 1/ (1 - self.beta1 ** self.n)\n",
        "      self.S_bar[i] = self.S[i] * 1 / (1 - self.beta2 ** self.n)\n",
        "      sqrt = torch.sqrt(self.S_bar[i]) + self.epsilon\n",
        "      self.params[i].data -= self.lr * torch.reciprocal(sqrt) * self.P_bar[i]\n",
        "    "
      ],
      "execution_count": null,
      "outputs": []
    },
    {
      "cell_type": "code",
      "metadata": {
        "id": "8OdCG4RjWeMJ",
        "colab": {
          "base_uri": "https://localhost:8080/"
        },
        "outputId": "2af2547d-a1fd-4056-d502-0cdecdb86b91"
      },
      "source": [
        "# Tests del API del curso\n",
        "weight, grad = corrector.get_test_data(homework=3, question=\"2d\", test=1, token=token)\n",
        "\n",
        "weight = torch.tensor(weight, requires_grad=True)\n",
        "weight.grad = torch.tensor(grad)\n",
        "\n",
        "optimizer = Adam([weight], lr=0.001, beta1=0.9, beta2=0.999, epsilon=1e-8)\n",
        "optimizer.step()\n",
        "\n",
        "# Submit\n",
        "corrector.submit(homework=3, question=\"2d\", test=1, token=token, answer=weight)\n",
        "optimizer.step()\n",
        "corrector.submit_check_some(homework=3, question=\"2d\", tests=[2, 3], token=token,\n",
        "                            answer_dict={2: weight, 3: weight}, required_number=1)"
      ],
      "execution_count": null,
      "outputs": [
        {
          "output_type": "stream",
          "name": "stdout",
          "text": [
            "Correct Test!\n",
            "Correct Test!\n"
          ]
        }
      ]
    },
    {
      "cell_type": "markdown",
      "metadata": {
        "id": "isKfnQt_Wszx"
      },
      "source": [
        "## 2e) Entrenamiento en MNIST \n",
        "\n",
        "Usa tu red neuronal para entrenar con los datos de MNIST y compara cómo cambian las curvas de entrenamiento dependiendo de factores como la inicialización y los algoritmos que utilices. Presenta al menos dos gráficos en donde compares. Por ejemplo, puedes presentar uno que para la misma estrategia de inicialización, los tres algoritmos de optimización para varias épocas y cómo evoluciona la pérdida y el acierto. En cada caso comenta que conclusiones puedes sacar. Algunos ejemplos de preguntas que podrías tratar de responder son:\n",
        "* ¿cómo afecta el algoritmo de optimización al tiempo de convergencia de la red para los datos de entrenamiento?\n",
        "* ¿cómo afecta el algoritmo de optimización en el acierto alcanzado por la red en los datos de prueba?\n",
        "* Si haces la parte opcional de Batch Normalization, puedes también preguntarte cosas como si aplicar, o no, BN afecta a todos los algoritmos de optimización por igual."
      ]
    },
    {
      "cell_type": "code",
      "metadata": {
        "id": "ccy31ejpWt3P"
      },
      "source": [
        "# Aqui el codigo para entrenar en MNIST\n",
        "\n",
        "# Tu código debiera continuar como sigue\n",
        "def get_init_weights(shape, init=None):\n",
        "  W = torch.randn(shape)\n",
        "  if init == \"xavier\":\n",
        "    W = xavier_init(*shape, r=W)\n",
        "  if init == \"he\":\n",
        "    W = he_init(*shape, r=W)\n",
        "  return Parameter(W)\n",
        "\n",
        "\n",
        "class FFNN(nn.Module):\n",
        "  def __init__(self, F, l_h, l_a, l_a_params, C, keep_prob=None, init=None):\n",
        "    # debes crear los parámetros necesarios para hacer \n",
        "    # dropout en cada capa dependiendo de keep_prob\n",
        "    super(FFNN, self).__init__()\n",
        "       \n",
        "    self.sizes = [F] + l_h + [C]\n",
        "    if init is not None:\n",
        "      if init == \"xavier\" or init == \"he\":\n",
        "        self.Ws = ParameterList([get_init_weights((self.sizes[i], self.sizes[i+1]), init=init) for i in range(len(self.sizes)-1)])\n",
        "      else:\n",
        "        print('Invalid initiation, use \"xavier\", \"he\" or \"None\"')\n",
        "        raise\n",
        "    else:\n",
        "      self.Ws = ParameterList([get_init_weights((self.sizes[i], self.sizes[i+1])) for i in range(len(self.sizes)-1)])\n",
        "    self.bs = ParameterList([Parameter(torch.zeros(h)) for h in self.sizes[1:]])\n",
        "    self.fs = l_a\n",
        "    if l_a_params is not None:\n",
        "      self.fs_ps_mask = [Parameter(torch.tensor(p)) if p else None for p in l_a_params]\n",
        "    else:\n",
        "      self.fs_ps_mask = [None for _ in l_a]\n",
        "    self.keep_prob = keep_prob\n",
        "    if self.keep_prob is not None:\n",
        "      self.generate_dropout_mask()\n",
        "    else:\n",
        "      self.drop = [1.0 for _ in range(len(self.sizes)-1)]\n",
        "    self.fs_ps = ParameterList([p for p in self.fs_ps_mask if p])\n",
        "\n",
        "  def generate_dropout_mask(self):\n",
        "    device = self.Ws[0].device\n",
        "    if self.keep_prob is not None:\n",
        "      self.drop = [(torch.rand(self.sizes[i])<=self.keep_prob[i]).float().to(device) / self.keep_prob[i] for i in range(len(self.keep_prob))]\n",
        "  \n",
        "  def forward(self, x, predict=False):\n",
        "    # debes modificar esta función para considerar el dropout\n",
        "    # y preocuparte de no considerarlo cuando (predict=True)\n",
        "    self.cacheU = [] #, self.cacheH = [], []\n",
        "    if self.keep_prob is not None:\n",
        "      self.generate_dropout_mask()\n",
        "    for W, b, f, p, d in zip(self.Ws[:-1], self.bs[:-1], self.fs, self.fs_ps_mask, self.drop):\n",
        "      if not predict:\n",
        "        x *= d\n",
        "      x = (torch.mm(x, W) + b)\n",
        "      self.cacheU.append(x)\n",
        "      x = f(x, p.item()) if p else f(x)\n",
        "      # self.cacheH.append(x)\n",
        "    return softmax(torch.mm(x, self.Ws[-1]) + self.bs[-1], dim=1)\n",
        "  \n",
        "  def backward(self, x, y, y_pred):\n",
        "    # computar acá todos los gradientes considerando el dropout \n",
        "    current_grad = (y_pred - y) / y.size(0)\n",
        "    \n",
        "    for i in range(len(self.Ws)-1, 0, -1):\n",
        "      if self.fs_ps_mask[i-1] is None:\n",
        "        # funcion de activacion sin parametro\n",
        "        self.Ws[i].grad = self.fs[i-1](self.cacheU[i-1]).t() @ current_grad\n",
        "      else:\n",
        "        # funcion de activacion con parametro\n",
        "        self.Ws[i].grad = self.fs[i-1](self.cacheU[i-1], self.fs_ps_mask[i-1].item()).t() @ current_grad\n",
        "      self.bs[i].grad = current_grad.sum(dim=0)\n",
        "      h_grad = current_grad @ self.Ws[i].t() * self.drop[i]\n",
        "      \n",
        "      if self.fs_ps_mask[i-1] is None:\n",
        "        # funcion de activacion sin parametro\n",
        "        current_grad = self.fs[i-1](self.cacheU[i-1], gradient=True) * h_grad \n",
        "      else:\n",
        "        # funcion de activacion con parametro\n",
        "        current_grad, p_grad = self.fs[i-1](self.cacheU[i-1], self.fs_ps_mask[i-1], gradient=True)\n",
        "        current_grad *= h_grad \n",
        "        self.fs_ps_mask[i-1].grad = (p_grad * h_grad).sum()\n",
        "    \n",
        "    self.Ws[0].grad = x.t() @ current_grad\n",
        "    self.bs[0].grad = current_grad.sum(dim=0)"
      ],
      "execution_count": null,
      "outputs": []
    },
    {
      "cell_type": "code",
      "metadata": {
        "id": "C3wF5hIv8oya"
      },
      "source": [
        "N, F, C = len(mnist_train_dataset), 28*28, 10\n",
        "\n",
        "# Red con optimizador adam\n",
        "red_mnist_adam = FFNN(F, [512,1024,128], [relu,relu,relu], [None,None,None], C, keep_prob=[1.0,0.5,0.5,0.5], init=\"xavier\")\n",
        "red_mnist_adam.to(device)\n",
        "optimizer_mnist_adam = Adam(red_mnist_adam.parameters())\n",
        "\n",
        "total_loss_mnist_adam = []\n",
        "total_acc_mnist_adam = []\n",
        "\n",
        "red_mnist_rmsprop = FFNN(F, [512,1024,128], [relu,relu,relu], [None,None,None], C, keep_prob=[1.0,0.5,0.5,0.5], init=\"xavier\")\n",
        "red_mnist_rmsprop.to(device)\n",
        "optimizer_mnist_rmsprop = RMSProp(red_mnist_rmsprop.parameters())\n",
        "\n",
        "total_loss_mnist_rmsprop = []\n",
        "total_acc_mnist_rmsprop = []\n",
        "\n",
        "red_mnist_sgd = FFNN(F, [512,1024,128], [relu,relu,relu], [None,None,None], C, keep_prob=[1.0,0.5,0.5,0.5], init=\"xavier\")\n",
        "red_mnist_sgd.to(device)\n",
        "optimizer_mnist_sgd = SGD(red_mnist_sgd.parameters(), 1e-3, momentum=0.9)\n",
        "\n",
        "total_loss_mnist_sgd = []\n",
        "total_acc_mnist_sgd = []"
      ],
      "execution_count": null,
      "outputs": []
    },
    {
      "cell_type": "code",
      "metadata": {
        "colab": {
          "base_uri": "https://localhost:8080/"
        },
        "id": "3wqR-NC18zf2",
        "outputId": "cdd48999-e07d-42ae-8690-5e5800ff0d00"
      },
      "source": [
        "with torch.no_grad():\n",
        "  loss_mnist, acc_mnist = entrenar_FFNN(red_mnist_adam, mnist_train_dataset, optimizer_mnist_adam,\n",
        "                                          epochs=epochs, batch_size=batch_size, device=device)\n",
        "  total_loss_mnist_adam += loss_mnist\n",
        "  total_acc_mnist_adam += acc_mnist"
      ],
      "execution_count": null,
      "outputs": [
        {
          "output_type": "stream",
          "name": "stdout",
          "text": [
            "Epoch:030 Acc:97.99% Loss:0.3617 Tiempo/epoch:18.134s"
          ]
        }
      ]
    },
    {
      "cell_type": "code",
      "metadata": {
        "id": "-K3ZBKXaF3Ue",
        "colab": {
          "base_uri": "https://localhost:8080/"
        },
        "outputId": "58ed4a4b-9201-4d24-9179-95edfe43906d"
      },
      "source": [
        "calcula_acierto(red_mnist_adam, mnist_test_dataset, device=device)"
      ],
      "execution_count": null,
      "outputs": [
        {
          "output_type": "stream",
          "name": "stdout",
          "text": [
            "iter 0 of 100\n",
            "iter 10 of 100\n",
            "iter 20 of 100\n",
            "iter 30 of 100\n",
            "iter 40 of 100\n",
            "iter 50 of 100\n",
            "iter 60 of 100\n",
            "iter 70 of 100\n",
            "iter 80 of 100\n",
            "iter 90 of 100\n",
            "Acc: 98.03%\n"
          ]
        }
      ]
    },
    {
      "cell_type": "code",
      "metadata": {
        "colab": {
          "base_uri": "https://localhost:8080/",
          "height": 573
        },
        "id": "qL0kbmwoF4gl",
        "outputId": "dac8b1af-a2be-44f2-a45b-4819feb6f51f"
      },
      "source": [
        "plot_results(total_loss_mnist_adam, total_acc_mnist_adam)"
      ],
      "execution_count": null,
      "outputs": [
        {
          "output_type": "display_data",
          "data": {
            "image/png": "[encoded data removed]",
            "text/plain": [
              "<Figure size 432x288 with 1 Axes>"
            ]
          },
          "metadata": {
            "needs_background": "light"
          }
        },
        {
          "output_type": "display_data",
          "data": {
            "image/png": "[encoded data removed]",
            "text/plain": [
              "<Figure size 432x288 with 1 Axes>"
            ]
          },
          "metadata": {
            "needs_background": "light"
          }
        }
      ]
    },
    {
      "cell_type": "code",
      "metadata": {
        "colab": {
          "base_uri": "https://localhost:8080/"
        },
        "id": "9kyCT_GWFVG2",
        "outputId": "7c84cbfa-be4d-40fb-8ad0-49a5196323eb"
      },
      "source": [
        "with torch.no_grad():\n",
        "  loss_mnist, acc_mnist = entrenar_FFNN(red_mnist_rmsprop, mnist_train_dataset, optimizer_mnist_rmsprop,\n",
        "                                          epochs=epochs, batch_size=batch_size, device=device)\n",
        "  total_loss_mnist_rmsprop += loss_mnist\n",
        "  total_acc_mnist_rmsprop += acc_mnist"
      ],
      "execution_count": null,
      "outputs": [
        {
          "output_type": "stream",
          "name": "stdout",
          "text": [
            "Epoch:030 Acc:96.99% Loss:0.5494 Tiempo/epoch:16.307s"
          ]
        }
      ]
    },
    {
      "cell_type": "code",
      "metadata": {
        "id": "Mg-L2z8-F9Wz",
        "colab": {
          "base_uri": "https://localhost:8080/"
        },
        "outputId": "0615738e-3943-4704-ed5b-30ee10cd77db"
      },
      "source": [
        "calcula_acierto(red_mnist_rmsprop, mnist_test_dataset, device=device)"
      ],
      "execution_count": null,
      "outputs": [
        {
          "output_type": "stream",
          "name": "stdout",
          "text": [
            "iter 0 of 100\n",
            "iter 10 of 100\n",
            "iter 20 of 100\n",
            "iter 30 of 100\n",
            "iter 40 of 100\n",
            "iter 50 of 100\n",
            "iter 60 of 100\n",
            "iter 70 of 100\n",
            "iter 80 of 100\n",
            "iter 90 of 100\n",
            "Acc: 96.2%\n"
          ]
        }
      ]
    },
    {
      "cell_type": "code",
      "metadata": {
        "id": "IuYPdYC9F5f3",
        "colab": {
          "base_uri": "https://localhost:8080/",
          "height": 573
        },
        "outputId": "1cd16015-7fa0-4063-90ca-2d7850293952"
      },
      "source": [
        "plot_results(total_loss_mnist_rmsprop, total_acc_mnist_rmsprop)"
      ],
      "execution_count": null,
      "outputs": [
        {
          "output_type": "display_data",
          "data": {
            "image/png": "[encoded data removed]",
            "text/plain": [
              "<Figure size 432x288 with 1 Axes>"
            ]
          },
          "metadata": {
            "needs_background": "light"
          }
        },
        {
          "output_type": "display_data",
          "data": {
            "image/png": "[encoded data removed]",
            "text/plain": [
              "<Figure size 432x288 with 1 Axes>"
            ]
          },
          "metadata": {
            "needs_background": "light"
          }
        }
      ]
    },
    {
      "cell_type": "code",
      "metadata": {
        "id": "9wi7eV51FVyH",
        "colab": {
          "base_uri": "https://localhost:8080/"
        },
        "outputId": "612788fb-6a85-4679-afe8-83216648e0ef"
      },
      "source": [
        "with torch.no_grad():\n",
        "  loss_mnist, acc_mnist = entrenar_FFNN(red_mnist_sgd, mnist_train_dataset, optimizer_mnist_sgd,\n",
        "                                          epochs=epochs, batch_size=batch_size, device=device)\n",
        "  total_loss_mnist_sgd += loss_mnist\n",
        "  total_acc_mnist_sgd += acc_mnist"
      ],
      "execution_count": null,
      "outputs": [
        {
          "output_type": "stream",
          "name": "stdout",
          "text": [
            "Epoch:030 Acc:97.51% Loss:0.4486 Tiempo/epoch:14.609s"
          ]
        }
      ]
    },
    {
      "cell_type": "code",
      "metadata": {
        "id": "UG2DSDMH9ILq",
        "colab": {
          "base_uri": "https://localhost:8080/"
        },
        "outputId": "81e82494-5521-4792-bb70-cc0b8628f623"
      },
      "source": [
        "calcula_acierto(red_mnist_sgd, mnist_test_dataset, device=device)"
      ],
      "execution_count": null,
      "outputs": [
        {
          "output_type": "stream",
          "name": "stdout",
          "text": [
            "iter 0 of 100\n",
            "iter 10 of 100\n",
            "iter 20 of 100\n",
            "iter 30 of 100\n",
            "iter 40 of 100\n",
            "iter 50 of 100\n",
            "iter 60 of 100\n",
            "iter 70 of 100\n",
            "iter 80 of 100\n",
            "iter 90 of 100\n",
            "Acc: 98.16%\n"
          ]
        }
      ]
    },
    {
      "cell_type": "code",
      "metadata": {
        "id": "V6TVPjRqDimB",
        "colab": {
          "base_uri": "https://localhost:8080/",
          "height": 573
        },
        "outputId": "280c9f64-93d9-44e7-9e71-c14854a83e78"
      },
      "source": [
        "plot_results(total_loss_mnist_sgd, total_acc_mnist_sgd)"
      ],
      "execution_count": null,
      "outputs": [
        {
          "output_type": "display_data",
          "data": {
            "image/png": "[encoded data removed]",
            "text/plain": [
              "<Figure size 432x288 with 1 Axes>"
            ]
          },
          "metadata": {
            "needs_background": "light"
          }
        },
        {
          "output_type": "display_data",
          "data": {
            "image/png": "[encoded data removed]",
            "text/plain": [
              "<Figure size 432x288 with 1 Axes>"
            ]
          },
          "metadata": {
            "needs_background": "light"
          }
        }
      ]
    },
    {
      "cell_type": "markdown",
      "metadata": {
        "id": "bt-yG4JBZerH"
      },
      "source": [
        "Podemos ver que adam tomo mayor cantidad de epocas en coverger los datos de la red, mientras que rmsprop converge rapidamente los datos de la red, aproxumadamente en la epoca 3 y sgd con momentum tambien toma tiempo en converger los datos. \\\\\n",
        "Tambien se puede ver que adam y sgd con momentum consiguen mejor acierto en el dataset de test, esto probablemente debido a la manera en que modifica los datos de la red, mientras que rmsprop consigue un menor acierto."
      ]
    },
    {
      "cell_type": "markdown",
      "metadata": {
        "id": "0n29s-6zXDS1"
      },
      "source": [
        "# Parte 3 (Opcional): Batch Normalization"
      ]
    },
    {
      "cell_type": "code",
      "metadata": {
        "id": "ytN2y-FMXDS3"
      },
      "source": [
        "# Tu código debiera continuar como sigue\n",
        "\n",
        "class FFNN():\n",
        "  def __init__(self, F, l_h, l_a, l_a_params, C, l_keep_prob, bn=None):\n",
        "    # debes crear los parámetros necesarios para las capas de\n",
        "    # batch normalizacion\n",
        "    pass\n",
        "  \n",
        "  def forward(x, predict=False):\n",
        "    # debes modificar esta función para considerar las capas para las que se\n",
        "    # usará batch normalization\n",
        "    # también debes preocuparte de guardar los datos estadísticos que se\n",
        "    # usaran en tiempo de test (predict=True)\n",
        "    pass\n",
        "  \n",
        "  def backward(x,y,y_pred):\n",
        "    # computar acá todos los gradientes considerando las capas de \n",
        "    # batch normalization\n",
        "    # no olvides considerar los nuevos parámetros entrenables.\n",
        "    pass"
      ],
      "execution_count": null,
      "outputs": []
    }
  ]
}